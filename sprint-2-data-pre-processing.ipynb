{
 "cells": [
  {
   "cell_type": "markdown",
   "id": "b5306dbf-af89-4fb9-ba13-02f4f05d2388",
   "metadata": {},
   "source": [
    "## Some useful commands for this exercise\n",
    "\n",
    "1. **`is.na`**:\n",
    "   - **Description**: Checks for missing (NA) values in an object.\n",
    "\n",
    "2. **`read.csv`**:\n",
    "   - **Description**: Reads a file in CSV (Comma Separated Values) format and creates a data frame from it.\n",
    "\n",
    "3. **`hist`**:\n",
    "   - **Description**: Creates a histogram to display the distribution of a dataset.\n",
    "\n",
    "4. **`sum`**:\n",
    "   - **Description**: Calculates the sum of all elements in a numeric vector.\n",
    "\n",
    "5. **`set.seed`**:\n",
    "   - **Description**: Sets the seed of R's random number generator, useful for creating reproducible results.\n",
    "\n",
    "6. **`log`**:\n",
    "   - **Description**: Computes the natural logarithm of a numeric vector or matrix.\n",
    "\n",
    "7. **`na.omit`**:\n",
    "   - **Description**: Removes all rows containing NA values from an object.\n",
    "\n",
    "8. **`nrow`**:\n",
    "   - **Description**: Returns the number of rows in a data frame or matrix.\n",
    "\n",
    "9. **`data.frame`**:\n",
    "   - **Description**: Creates data frames, which are used for storing data tables.\n",
    "\n",
    "10. **`dim`**:\n",
    "    - **Description**: Retrieves or sets the dimensions of an object.\n",
    "\n",
    "11. **`sample`**:\n",
    "    - **Description**: Draws random samples from a specified vector or set of numbers.\n",
    "\n",
    "12. **`plot`**:\n",
    "    - **Description**: Creates a variety of plots depending on the type of the input object.\n",
    "\n",
    "13. **`missing`**:\n",
    "    - **Description**: Checks if a value is missing (NA).\n",
    "\n",
    "14. **`length`**:\n",
    "    - **Description**: Returns the number of elements in an object.\n",
    "\n",
    "15. **`impute`**:\n",
    "    - **Description**: Used for imputing missing values. The actual function is available in specific packages like `Hmisc`.\n",
    "\n",
    "16. **`unique`**:\n",
    "    - **Description**: Returns a vector, data frame, or array with duplicate elements/rows removed.\n"
   ]
  },
  {
   "cell_type": "markdown",
   "id": "dd75105d-3d03-40c7-ae08-c79d382c7e55",
   "metadata": {},
   "source": [
    "## 1. Make sure that the dataset airquality in the package datasets is available in your R session (otherwise: Load it)."
   ]
  },
  {
   "cell_type": "markdown",
   "id": "09122c6c-40b4-4bed-8091-3bf90cdd4ca5",
   "metadata": {},
   "source": [
    "**(a) Calculate the mean of the variable Ozone in the dataset airquality.\n",
    "Do you encounter any problems?**"
   ]
  },
  {
   "cell_type": "code",
   "execution_count": 1,
   "id": "1670329b-5643-4813-a2ac-f9c2c1de8b6b",
   "metadata": {},
   "outputs": [
    {
     "data": {
      "text/html": [
       "&lt;NA&gt;"
      ],
      "text/latex": [
       "<NA>"
      ],
      "text/markdown": [
       "&lt;NA&gt;"
      ],
      "text/plain": [
       "[1] NA"
      ]
     },
     "metadata": {},
     "output_type": "display_data"
    }
   ],
   "source": [
    "# Solution:\n",
    "library(datasets)\n",
    "attach(airquality)\n",
    "mean(Ozone)"
   ]
  },
  {
   "cell_type": "markdown",
   "id": "dcc2f468-f03d-443e-9c5e-27c833cb7ced",
   "metadata": {},
   "source": [
    "**(b) Use the function is.na to determine how many missing numbers there\n",
    "are in the variable ozone. What value is returned by the function\n",
    "is.na?**"
   ]
  },
  {
   "cell_type": "code",
   "execution_count": 2,
   "id": "64abe2dc-6be2-4ae9-8409-b9a7c9f1f729",
   "metadata": {},
   "outputs": [
    {
     "data": {
      "text/html": [
       "<style>\n",
       ".list-inline {list-style: none; margin:0; padding: 0}\n",
       ".list-inline>li {display: inline-block}\n",
       ".list-inline>li:not(:last-child)::after {content: \"\\00b7\"; padding: 0 .5ex}\n",
       "</style>\n",
       "<ol class=list-inline><li>FALSE</li><li>FALSE</li><li>FALSE</li><li>FALSE</li><li>TRUE</li><li>FALSE</li><li>FALSE</li><li>FALSE</li><li>FALSE</li><li>TRUE</li><li>FALSE</li><li>FALSE</li><li>FALSE</li><li>FALSE</li><li>FALSE</li><li>FALSE</li><li>FALSE</li><li>FALSE</li><li>FALSE</li><li>FALSE</li><li>FALSE</li><li>FALSE</li><li>FALSE</li><li>FALSE</li><li>TRUE</li><li>TRUE</li><li>TRUE</li><li>FALSE</li><li>FALSE</li><li>FALSE</li><li>FALSE</li><li>TRUE</li><li>TRUE</li><li>TRUE</li><li>TRUE</li><li>TRUE</li><li>TRUE</li><li>FALSE</li><li>TRUE</li><li>FALSE</li><li>FALSE</li><li>TRUE</li><li>TRUE</li><li>FALSE</li><li>TRUE</li><li>TRUE</li><li>FALSE</li><li>FALSE</li><li>FALSE</li><li>FALSE</li><li>FALSE</li><li>TRUE</li><li>TRUE</li><li>TRUE</li><li>TRUE</li><li>TRUE</li><li>TRUE</li><li>TRUE</li><li>TRUE</li><li>TRUE</li><li>TRUE</li><li>FALSE</li><li>FALSE</li><li>FALSE</li><li>TRUE</li><li>FALSE</li><li>FALSE</li><li>FALSE</li><li>FALSE</li><li>FALSE</li><li>FALSE</li><li>TRUE</li><li>FALSE</li><li>FALSE</li><li>TRUE</li><li>FALSE</li><li>FALSE</li><li>FALSE</li><li>FALSE</li><li>FALSE</li><li>FALSE</li><li>FALSE</li><li>TRUE</li><li>TRUE</li><li>FALSE</li><li>FALSE</li><li>FALSE</li><li>FALSE</li><li>FALSE</li><li>FALSE</li><li>FALSE</li><li>FALSE</li><li>FALSE</li><li>FALSE</li><li>FALSE</li><li>FALSE</li><li>FALSE</li><li>FALSE</li><li>FALSE</li><li>FALSE</li><li>FALSE</li><li>TRUE</li><li>TRUE</li><li>FALSE</li><li>FALSE</li><li>FALSE</li><li>TRUE</li><li>FALSE</li><li>FALSE</li><li>FALSE</li><li>FALSE</li><li>FALSE</li><li>FALSE</li><li>FALSE</li><li>TRUE</li><li>FALSE</li><li>FALSE</li><li>FALSE</li><li>TRUE</li><li>FALSE</li><li>FALSE</li><li>FALSE</li><li>FALSE</li><li>FALSE</li><li>FALSE</li><li>FALSE</li><li>FALSE</li><li>FALSE</li><li>FALSE</li><li>FALSE</li><li>FALSE</li><li>FALSE</li><li>FALSE</li><li>FALSE</li><li>FALSE</li><li>FALSE</li><li>FALSE</li><li>FALSE</li><li>FALSE</li><li>FALSE</li><li>FALSE</li><li>FALSE</li><li>FALSE</li><li>FALSE</li><li>FALSE</li><li>FALSE</li><li>FALSE</li><li>FALSE</li><li>FALSE</li><li>TRUE</li><li>FALSE</li><li>FALSE</li><li>FALSE</li></ol>\n"
      ],
      "text/latex": [
       "\\begin{enumerate*}\n",
       "\\item FALSE\n",
       "\\item FALSE\n",
       "\\item FALSE\n",
       "\\item FALSE\n",
       "\\item TRUE\n",
       "\\item FALSE\n",
       "\\item FALSE\n",
       "\\item FALSE\n",
       "\\item FALSE\n",
       "\\item TRUE\n",
       "\\item FALSE\n",
       "\\item FALSE\n",
       "\\item FALSE\n",
       "\\item FALSE\n",
       "\\item FALSE\n",
       "\\item FALSE\n",
       "\\item FALSE\n",
       "\\item FALSE\n",
       "\\item FALSE\n",
       "\\item FALSE\n",
       "\\item FALSE\n",
       "\\item FALSE\n",
       "\\item FALSE\n",
       "\\item FALSE\n",
       "\\item TRUE\n",
       "\\item TRUE\n",
       "\\item TRUE\n",
       "\\item FALSE\n",
       "\\item FALSE\n",
       "\\item FALSE\n",
       "\\item FALSE\n",
       "\\item TRUE\n",
       "\\item TRUE\n",
       "\\item TRUE\n",
       "\\item TRUE\n",
       "\\item TRUE\n",
       "\\item TRUE\n",
       "\\item FALSE\n",
       "\\item TRUE\n",
       "\\item FALSE\n",
       "\\item FALSE\n",
       "\\item TRUE\n",
       "\\item TRUE\n",
       "\\item FALSE\n",
       "\\item TRUE\n",
       "\\item TRUE\n",
       "\\item FALSE\n",
       "\\item FALSE\n",
       "\\item FALSE\n",
       "\\item FALSE\n",
       "\\item FALSE\n",
       "\\item TRUE\n",
       "\\item TRUE\n",
       "\\item TRUE\n",
       "\\item TRUE\n",
       "\\item TRUE\n",
       "\\item TRUE\n",
       "\\item TRUE\n",
       "\\item TRUE\n",
       "\\item TRUE\n",
       "\\item TRUE\n",
       "\\item FALSE\n",
       "\\item FALSE\n",
       "\\item FALSE\n",
       "\\item TRUE\n",
       "\\item FALSE\n",
       "\\item FALSE\n",
       "\\item FALSE\n",
       "\\item FALSE\n",
       "\\item FALSE\n",
       "\\item FALSE\n",
       "\\item TRUE\n",
       "\\item FALSE\n",
       "\\item FALSE\n",
       "\\item TRUE\n",
       "\\item FALSE\n",
       "\\item FALSE\n",
       "\\item FALSE\n",
       "\\item FALSE\n",
       "\\item FALSE\n",
       "\\item FALSE\n",
       "\\item FALSE\n",
       "\\item TRUE\n",
       "\\item TRUE\n",
       "\\item FALSE\n",
       "\\item FALSE\n",
       "\\item FALSE\n",
       "\\item FALSE\n",
       "\\item FALSE\n",
       "\\item FALSE\n",
       "\\item FALSE\n",
       "\\item FALSE\n",
       "\\item FALSE\n",
       "\\item FALSE\n",
       "\\item FALSE\n",
       "\\item FALSE\n",
       "\\item FALSE\n",
       "\\item FALSE\n",
       "\\item FALSE\n",
       "\\item FALSE\n",
       "\\item FALSE\n",
       "\\item TRUE\n",
       "\\item TRUE\n",
       "\\item FALSE\n",
       "\\item FALSE\n",
       "\\item FALSE\n",
       "\\item TRUE\n",
       "\\item FALSE\n",
       "\\item FALSE\n",
       "\\item FALSE\n",
       "\\item FALSE\n",
       "\\item FALSE\n",
       "\\item FALSE\n",
       "\\item FALSE\n",
       "\\item TRUE\n",
       "\\item FALSE\n",
       "\\item FALSE\n",
       "\\item FALSE\n",
       "\\item TRUE\n",
       "\\item FALSE\n",
       "\\item FALSE\n",
       "\\item FALSE\n",
       "\\item FALSE\n",
       "\\item FALSE\n",
       "\\item FALSE\n",
       "\\item FALSE\n",
       "\\item FALSE\n",
       "\\item FALSE\n",
       "\\item FALSE\n",
       "\\item FALSE\n",
       "\\item FALSE\n",
       "\\item FALSE\n",
       "\\item FALSE\n",
       "\\item FALSE\n",
       "\\item FALSE\n",
       "\\item FALSE\n",
       "\\item FALSE\n",
       "\\item FALSE\n",
       "\\item FALSE\n",
       "\\item FALSE\n",
       "\\item FALSE\n",
       "\\item FALSE\n",
       "\\item FALSE\n",
       "\\item FALSE\n",
       "\\item FALSE\n",
       "\\item FALSE\n",
       "\\item FALSE\n",
       "\\item FALSE\n",
       "\\item FALSE\n",
       "\\item TRUE\n",
       "\\item FALSE\n",
       "\\item FALSE\n",
       "\\item FALSE\n",
       "\\end{enumerate*}\n"
      ],
      "text/markdown": [
       "1. FALSE\n",
       "2. FALSE\n",
       "3. FALSE\n",
       "4. FALSE\n",
       "5. TRUE\n",
       "6. FALSE\n",
       "7. FALSE\n",
       "8. FALSE\n",
       "9. FALSE\n",
       "10. TRUE\n",
       "11. FALSE\n",
       "12. FALSE\n",
       "13. FALSE\n",
       "14. FALSE\n",
       "15. FALSE\n",
       "16. FALSE\n",
       "17. FALSE\n",
       "18. FALSE\n",
       "19. FALSE\n",
       "20. FALSE\n",
       "21. FALSE\n",
       "22. FALSE\n",
       "23. FALSE\n",
       "24. FALSE\n",
       "25. TRUE\n",
       "26. TRUE\n",
       "27. TRUE\n",
       "28. FALSE\n",
       "29. FALSE\n",
       "30. FALSE\n",
       "31. FALSE\n",
       "32. TRUE\n",
       "33. TRUE\n",
       "34. TRUE\n",
       "35. TRUE\n",
       "36. TRUE\n",
       "37. TRUE\n",
       "38. FALSE\n",
       "39. TRUE\n",
       "40. FALSE\n",
       "41. FALSE\n",
       "42. TRUE\n",
       "43. TRUE\n",
       "44. FALSE\n",
       "45. TRUE\n",
       "46. TRUE\n",
       "47. FALSE\n",
       "48. FALSE\n",
       "49. FALSE\n",
       "50. FALSE\n",
       "51. FALSE\n",
       "52. TRUE\n",
       "53. TRUE\n",
       "54. TRUE\n",
       "55. TRUE\n",
       "56. TRUE\n",
       "57. TRUE\n",
       "58. TRUE\n",
       "59. TRUE\n",
       "60. TRUE\n",
       "61. TRUE\n",
       "62. FALSE\n",
       "63. FALSE\n",
       "64. FALSE\n",
       "65. TRUE\n",
       "66. FALSE\n",
       "67. FALSE\n",
       "68. FALSE\n",
       "69. FALSE\n",
       "70. FALSE\n",
       "71. FALSE\n",
       "72. TRUE\n",
       "73. FALSE\n",
       "74. FALSE\n",
       "75. TRUE\n",
       "76. FALSE\n",
       "77. FALSE\n",
       "78. FALSE\n",
       "79. FALSE\n",
       "80. FALSE\n",
       "81. FALSE\n",
       "82. FALSE\n",
       "83. TRUE\n",
       "84. TRUE\n",
       "85. FALSE\n",
       "86. FALSE\n",
       "87. FALSE\n",
       "88. FALSE\n",
       "89. FALSE\n",
       "90. FALSE\n",
       "91. FALSE\n",
       "92. FALSE\n",
       "93. FALSE\n",
       "94. FALSE\n",
       "95. FALSE\n",
       "96. FALSE\n",
       "97. FALSE\n",
       "98. FALSE\n",
       "99. FALSE\n",
       "100. FALSE\n",
       "101. FALSE\n",
       "102. TRUE\n",
       "103. TRUE\n",
       "104. FALSE\n",
       "105. FALSE\n",
       "106. FALSE\n",
       "107. TRUE\n",
       "108. FALSE\n",
       "109. FALSE\n",
       "110. FALSE\n",
       "111. FALSE\n",
       "112. FALSE\n",
       "113. FALSE\n",
       "114. FALSE\n",
       "115. TRUE\n",
       "116. FALSE\n",
       "117. FALSE\n",
       "118. FALSE\n",
       "119. TRUE\n",
       "120. FALSE\n",
       "121. FALSE\n",
       "122. FALSE\n",
       "123. FALSE\n",
       "124. FALSE\n",
       "125. FALSE\n",
       "126. FALSE\n",
       "127. FALSE\n",
       "128. FALSE\n",
       "129. FALSE\n",
       "130. FALSE\n",
       "131. FALSE\n",
       "132. FALSE\n",
       "133. FALSE\n",
       "134. FALSE\n",
       "135. FALSE\n",
       "136. FALSE\n",
       "137. FALSE\n",
       "138. FALSE\n",
       "139. FALSE\n",
       "140. FALSE\n",
       "141. FALSE\n",
       "142. FALSE\n",
       "143. FALSE\n",
       "144. FALSE\n",
       "145. FALSE\n",
       "146. FALSE\n",
       "147. FALSE\n",
       "148. FALSE\n",
       "149. FALSE\n",
       "150. TRUE\n",
       "151. FALSE\n",
       "152. FALSE\n",
       "153. FALSE\n",
       "\n",
       "\n"
      ],
      "text/plain": [
       "  [1] FALSE FALSE FALSE FALSE  TRUE FALSE FALSE FALSE FALSE  TRUE FALSE FALSE\n",
       " [13] FALSE FALSE FALSE FALSE FALSE FALSE FALSE FALSE FALSE FALSE FALSE FALSE\n",
       " [25]  TRUE  TRUE  TRUE FALSE FALSE FALSE FALSE  TRUE  TRUE  TRUE  TRUE  TRUE\n",
       " [37]  TRUE FALSE  TRUE FALSE FALSE  TRUE  TRUE FALSE  TRUE  TRUE FALSE FALSE\n",
       " [49] FALSE FALSE FALSE  TRUE  TRUE  TRUE  TRUE  TRUE  TRUE  TRUE  TRUE  TRUE\n",
       " [61]  TRUE FALSE FALSE FALSE  TRUE FALSE FALSE FALSE FALSE FALSE FALSE  TRUE\n",
       " [73] FALSE FALSE  TRUE FALSE FALSE FALSE FALSE FALSE FALSE FALSE  TRUE  TRUE\n",
       " [85] FALSE FALSE FALSE FALSE FALSE FALSE FALSE FALSE FALSE FALSE FALSE FALSE\n",
       " [97] FALSE FALSE FALSE FALSE FALSE  TRUE  TRUE FALSE FALSE FALSE  TRUE FALSE\n",
       "[109] FALSE FALSE FALSE FALSE FALSE FALSE  TRUE FALSE FALSE FALSE  TRUE FALSE\n",
       "[121] FALSE FALSE FALSE FALSE FALSE FALSE FALSE FALSE FALSE FALSE FALSE FALSE\n",
       "[133] FALSE FALSE FALSE FALSE FALSE FALSE FALSE FALSE FALSE FALSE FALSE FALSE\n",
       "[145] FALSE FALSE FALSE FALSE FALSE  TRUE FALSE FALSE FALSE"
      ]
     },
     "metadata": {},
     "output_type": "display_data"
    },
    {
     "data": {
      "text/html": [
       "37"
      ],
      "text/latex": [
       "37"
      ],
      "text/markdown": [
       "37"
      ],
      "text/plain": [
       "[1] 37"
      ]
     },
     "metadata": {},
     "output_type": "display_data"
    }
   ],
   "source": [
    "# Solution:\n",
    "is.na(Ozone)\n",
    "sum(is.na(Ozone))"
   ]
  },
  {
   "cell_type": "markdown",
   "id": "9e91af3c-f34c-4829-812a-5fa0a1d9fc22",
   "metadata": {},
   "source": [
    "**(c) How many missing numbers are there totally in the dataset airqual-\n",
    "ity?**"
   ]
  },
  {
   "cell_type": "code",
   "execution_count": 3,
   "id": "18236436-3a5c-4599-8c86-c82a97f24a8d",
   "metadata": {},
   "outputs": [
    {
     "data": {
      "text/html": [
       "44"
      ],
      "text/latex": [
       "44"
      ],
      "text/markdown": [
       "44"
      ],
      "text/plain": [
       "[1] 44"
      ]
     },
     "metadata": {},
     "output_type": "display_data"
    }
   ],
   "source": [
    "# Solution:\n",
    "sum(is.na(airquality))"
   ]
  },
  {
   "cell_type": "markdown",
   "id": "3a06aa37-cbb8-4cb4-8771-d6f1ac93032d",
   "metadata": {},
   "source": [
    "**(d) What does the option na.rm in the function mean do? Use this to\n",
    "calculate the mean of Ozone.**"
   ]
  },
  {
   "cell_type": "code",
   "execution_count": 4,
   "id": "bd31c7a6-c1d8-45cc-9f2f-d2ed2bd1bf4a",
   "metadata": {},
   "outputs": [
    {
     "data": {
      "text/html": [
       "42.1293103448276"
      ],
      "text/latex": [
       "42.1293103448276"
      ],
      "text/markdown": [
       "42.1293103448276"
      ],
      "text/plain": [
       "[1] 42.12931"
      ]
     },
     "metadata": {},
     "output_type": "display_data"
    }
   ],
   "source": [
    "# Solution:\n",
    "mean(Ozone,na.rm=TRUE)"
   ]
  },
  {
   "cell_type": "markdown",
   "id": "bd09bd84-0b55-4d54-8166-a27c91f9947d",
   "metadata": {},
   "source": [
    "**(e) Apply the function na.omit to the dataset airquality to construct a\n",
    "new dataset without any missing values. Compare the number of\n",
    "observations in the new dataset and in the original dataset.**"
   ]
  },
  {
   "cell_type": "code",
   "execution_count": 5,
   "id": "0eb8305f-7210-4887-b972-85166a8b90b5",
   "metadata": {},
   "outputs": [
    {
     "data": {
      "text/html": [
       "<style>\n",
       ".list-inline {list-style: none; margin:0; padding: 0}\n",
       ".list-inline>li {display: inline-block}\n",
       ".list-inline>li:not(:last-child)::after {content: \"\\00b7\"; padding: 0 .5ex}\n",
       "</style>\n",
       "<ol class=list-inline><li>111</li><li>6</li></ol>\n"
      ],
      "text/latex": [
       "\\begin{enumerate*}\n",
       "\\item 111\n",
       "\\item 6\n",
       "\\end{enumerate*}\n"
      ],
      "text/markdown": [
       "1. 111\n",
       "2. 6\n",
       "\n",
       "\n"
      ],
      "text/plain": [
       "[1] 111   6"
      ]
     },
     "metadata": {},
     "output_type": "display_data"
    },
    {
     "data": {
      "text/html": [
       "<style>\n",
       ".list-inline {list-style: none; margin:0; padding: 0}\n",
       ".list-inline>li {display: inline-block}\n",
       ".list-inline>li:not(:last-child)::after {content: \"\\00b7\"; padding: 0 .5ex}\n",
       "</style>\n",
       "<ol class=list-inline><li>153</li><li>6</li></ol>\n"
      ],
      "text/latex": [
       "\\begin{enumerate*}\n",
       "\\item 153\n",
       "\\item 6\n",
       "\\end{enumerate*}\n"
      ],
      "text/markdown": [
       "1. 153\n",
       "2. 6\n",
       "\n",
       "\n"
      ],
      "text/plain": [
       "[1] 153   6"
      ]
     },
     "metadata": {},
     "output_type": "display_data"
    }
   ],
   "source": [
    "# Solution:\n",
    "airquality_without_missing=na.omit(airquality)\n",
    "dim(airquality_without_missing)\n",
    "dim(airquality)"
   ]
  },
  {
   "cell_type": "markdown",
   "id": "0e1d0c55-5bcd-4f57-adad-9cda6b31bb63",
   "metadata": {},
   "source": [
    "**(f) Apply the function complete.cases to the variable Ozone. What does\n",
    "this function do?**"
   ]
  },
  {
   "cell_type": "code",
   "execution_count": 6,
   "id": "8223b7fe-f5af-4e39-b219-8020ec79fcba",
   "metadata": {},
   "outputs": [
    {
     "data": {
      "text/html": [
       "<style>\n",
       ".list-inline {list-style: none; margin:0; padding: 0}\n",
       ".list-inline>li {display: inline-block}\n",
       ".list-inline>li:not(:last-child)::after {content: \"\\00b7\"; padding: 0 .5ex}\n",
       "</style>\n",
       "<ol class=list-inline><li>TRUE</li><li>TRUE</li><li>TRUE</li><li>TRUE</li><li>FALSE</li><li>TRUE</li><li>TRUE</li><li>TRUE</li><li>TRUE</li><li>FALSE</li><li>TRUE</li><li>TRUE</li><li>TRUE</li><li>TRUE</li><li>TRUE</li><li>TRUE</li><li>TRUE</li><li>TRUE</li><li>TRUE</li><li>TRUE</li><li>TRUE</li><li>TRUE</li><li>TRUE</li><li>TRUE</li><li>FALSE</li><li>FALSE</li><li>FALSE</li><li>TRUE</li><li>TRUE</li><li>TRUE</li><li>TRUE</li><li>FALSE</li><li>FALSE</li><li>FALSE</li><li>FALSE</li><li>FALSE</li><li>FALSE</li><li>TRUE</li><li>FALSE</li><li>TRUE</li><li>TRUE</li><li>FALSE</li><li>FALSE</li><li>TRUE</li><li>FALSE</li><li>FALSE</li><li>TRUE</li><li>TRUE</li><li>TRUE</li><li>TRUE</li><li>TRUE</li><li>FALSE</li><li>FALSE</li><li>FALSE</li><li>FALSE</li><li>FALSE</li><li>FALSE</li><li>FALSE</li><li>FALSE</li><li>FALSE</li><li>FALSE</li><li>TRUE</li><li>TRUE</li><li>TRUE</li><li>FALSE</li><li>TRUE</li><li>TRUE</li><li>TRUE</li><li>TRUE</li><li>TRUE</li><li>TRUE</li><li>FALSE</li><li>TRUE</li><li>TRUE</li><li>FALSE</li><li>TRUE</li><li>TRUE</li><li>TRUE</li><li>TRUE</li><li>TRUE</li><li>TRUE</li><li>TRUE</li><li>FALSE</li><li>FALSE</li><li>TRUE</li><li>TRUE</li><li>TRUE</li><li>TRUE</li><li>TRUE</li><li>TRUE</li><li>TRUE</li><li>TRUE</li><li>TRUE</li><li>TRUE</li><li>TRUE</li><li>TRUE</li><li>TRUE</li><li>TRUE</li><li>TRUE</li><li>TRUE</li><li>TRUE</li><li>FALSE</li><li>FALSE</li><li>TRUE</li><li>TRUE</li><li>TRUE</li><li>FALSE</li><li>TRUE</li><li>TRUE</li><li>TRUE</li><li>TRUE</li><li>TRUE</li><li>TRUE</li><li>TRUE</li><li>FALSE</li><li>TRUE</li><li>TRUE</li><li>TRUE</li><li>FALSE</li><li>TRUE</li><li>TRUE</li><li>TRUE</li><li>TRUE</li><li>TRUE</li><li>TRUE</li><li>TRUE</li><li>TRUE</li><li>TRUE</li><li>TRUE</li><li>TRUE</li><li>TRUE</li><li>TRUE</li><li>TRUE</li><li>TRUE</li><li>TRUE</li><li>TRUE</li><li>TRUE</li><li>TRUE</li><li>TRUE</li><li>TRUE</li><li>TRUE</li><li>TRUE</li><li>TRUE</li><li>TRUE</li><li>TRUE</li><li>TRUE</li><li>TRUE</li><li>TRUE</li><li>TRUE</li><li>FALSE</li><li>TRUE</li><li>TRUE</li><li>TRUE</li></ol>\n"
      ],
      "text/latex": [
       "\\begin{enumerate*}\n",
       "\\item TRUE\n",
       "\\item TRUE\n",
       "\\item TRUE\n",
       "\\item TRUE\n",
       "\\item FALSE\n",
       "\\item TRUE\n",
       "\\item TRUE\n",
       "\\item TRUE\n",
       "\\item TRUE\n",
       "\\item FALSE\n",
       "\\item TRUE\n",
       "\\item TRUE\n",
       "\\item TRUE\n",
       "\\item TRUE\n",
       "\\item TRUE\n",
       "\\item TRUE\n",
       "\\item TRUE\n",
       "\\item TRUE\n",
       "\\item TRUE\n",
       "\\item TRUE\n",
       "\\item TRUE\n",
       "\\item TRUE\n",
       "\\item TRUE\n",
       "\\item TRUE\n",
       "\\item FALSE\n",
       "\\item FALSE\n",
       "\\item FALSE\n",
       "\\item TRUE\n",
       "\\item TRUE\n",
       "\\item TRUE\n",
       "\\item TRUE\n",
       "\\item FALSE\n",
       "\\item FALSE\n",
       "\\item FALSE\n",
       "\\item FALSE\n",
       "\\item FALSE\n",
       "\\item FALSE\n",
       "\\item TRUE\n",
       "\\item FALSE\n",
       "\\item TRUE\n",
       "\\item TRUE\n",
       "\\item FALSE\n",
       "\\item FALSE\n",
       "\\item TRUE\n",
       "\\item FALSE\n",
       "\\item FALSE\n",
       "\\item TRUE\n",
       "\\item TRUE\n",
       "\\item TRUE\n",
       "\\item TRUE\n",
       "\\item TRUE\n",
       "\\item FALSE\n",
       "\\item FALSE\n",
       "\\item FALSE\n",
       "\\item FALSE\n",
       "\\item FALSE\n",
       "\\item FALSE\n",
       "\\item FALSE\n",
       "\\item FALSE\n",
       "\\item FALSE\n",
       "\\item FALSE\n",
       "\\item TRUE\n",
       "\\item TRUE\n",
       "\\item TRUE\n",
       "\\item FALSE\n",
       "\\item TRUE\n",
       "\\item TRUE\n",
       "\\item TRUE\n",
       "\\item TRUE\n",
       "\\item TRUE\n",
       "\\item TRUE\n",
       "\\item FALSE\n",
       "\\item TRUE\n",
       "\\item TRUE\n",
       "\\item FALSE\n",
       "\\item TRUE\n",
       "\\item TRUE\n",
       "\\item TRUE\n",
       "\\item TRUE\n",
       "\\item TRUE\n",
       "\\item TRUE\n",
       "\\item TRUE\n",
       "\\item FALSE\n",
       "\\item FALSE\n",
       "\\item TRUE\n",
       "\\item TRUE\n",
       "\\item TRUE\n",
       "\\item TRUE\n",
       "\\item TRUE\n",
       "\\item TRUE\n",
       "\\item TRUE\n",
       "\\item TRUE\n",
       "\\item TRUE\n",
       "\\item TRUE\n",
       "\\item TRUE\n",
       "\\item TRUE\n",
       "\\item TRUE\n",
       "\\item TRUE\n",
       "\\item TRUE\n",
       "\\item TRUE\n",
       "\\item TRUE\n",
       "\\item FALSE\n",
       "\\item FALSE\n",
       "\\item TRUE\n",
       "\\item TRUE\n",
       "\\item TRUE\n",
       "\\item FALSE\n",
       "\\item TRUE\n",
       "\\item TRUE\n",
       "\\item TRUE\n",
       "\\item TRUE\n",
       "\\item TRUE\n",
       "\\item TRUE\n",
       "\\item TRUE\n",
       "\\item FALSE\n",
       "\\item TRUE\n",
       "\\item TRUE\n",
       "\\item TRUE\n",
       "\\item FALSE\n",
       "\\item TRUE\n",
       "\\item TRUE\n",
       "\\item TRUE\n",
       "\\item TRUE\n",
       "\\item TRUE\n",
       "\\item TRUE\n",
       "\\item TRUE\n",
       "\\item TRUE\n",
       "\\item TRUE\n",
       "\\item TRUE\n",
       "\\item TRUE\n",
       "\\item TRUE\n",
       "\\item TRUE\n",
       "\\item TRUE\n",
       "\\item TRUE\n",
       "\\item TRUE\n",
       "\\item TRUE\n",
       "\\item TRUE\n",
       "\\item TRUE\n",
       "\\item TRUE\n",
       "\\item TRUE\n",
       "\\item TRUE\n",
       "\\item TRUE\n",
       "\\item TRUE\n",
       "\\item TRUE\n",
       "\\item TRUE\n",
       "\\item TRUE\n",
       "\\item TRUE\n",
       "\\item TRUE\n",
       "\\item TRUE\n",
       "\\item FALSE\n",
       "\\item TRUE\n",
       "\\item TRUE\n",
       "\\item TRUE\n",
       "\\end{enumerate*}\n"
      ],
      "text/markdown": [
       "1. TRUE\n",
       "2. TRUE\n",
       "3. TRUE\n",
       "4. TRUE\n",
       "5. FALSE\n",
       "6. TRUE\n",
       "7. TRUE\n",
       "8. TRUE\n",
       "9. TRUE\n",
       "10. FALSE\n",
       "11. TRUE\n",
       "12. TRUE\n",
       "13. TRUE\n",
       "14. TRUE\n",
       "15. TRUE\n",
       "16. TRUE\n",
       "17. TRUE\n",
       "18. TRUE\n",
       "19. TRUE\n",
       "20. TRUE\n",
       "21. TRUE\n",
       "22. TRUE\n",
       "23. TRUE\n",
       "24. TRUE\n",
       "25. FALSE\n",
       "26. FALSE\n",
       "27. FALSE\n",
       "28. TRUE\n",
       "29. TRUE\n",
       "30. TRUE\n",
       "31. TRUE\n",
       "32. FALSE\n",
       "33. FALSE\n",
       "34. FALSE\n",
       "35. FALSE\n",
       "36. FALSE\n",
       "37. FALSE\n",
       "38. TRUE\n",
       "39. FALSE\n",
       "40. TRUE\n",
       "41. TRUE\n",
       "42. FALSE\n",
       "43. FALSE\n",
       "44. TRUE\n",
       "45. FALSE\n",
       "46. FALSE\n",
       "47. TRUE\n",
       "48. TRUE\n",
       "49. TRUE\n",
       "50. TRUE\n",
       "51. TRUE\n",
       "52. FALSE\n",
       "53. FALSE\n",
       "54. FALSE\n",
       "55. FALSE\n",
       "56. FALSE\n",
       "57. FALSE\n",
       "58. FALSE\n",
       "59. FALSE\n",
       "60. FALSE\n",
       "61. FALSE\n",
       "62. TRUE\n",
       "63. TRUE\n",
       "64. TRUE\n",
       "65. FALSE\n",
       "66. TRUE\n",
       "67. TRUE\n",
       "68. TRUE\n",
       "69. TRUE\n",
       "70. TRUE\n",
       "71. TRUE\n",
       "72. FALSE\n",
       "73. TRUE\n",
       "74. TRUE\n",
       "75. FALSE\n",
       "76. TRUE\n",
       "77. TRUE\n",
       "78. TRUE\n",
       "79. TRUE\n",
       "80. TRUE\n",
       "81. TRUE\n",
       "82. TRUE\n",
       "83. FALSE\n",
       "84. FALSE\n",
       "85. TRUE\n",
       "86. TRUE\n",
       "87. TRUE\n",
       "88. TRUE\n",
       "89. TRUE\n",
       "90. TRUE\n",
       "91. TRUE\n",
       "92. TRUE\n",
       "93. TRUE\n",
       "94. TRUE\n",
       "95. TRUE\n",
       "96. TRUE\n",
       "97. TRUE\n",
       "98. TRUE\n",
       "99. TRUE\n",
       "100. TRUE\n",
       "101. TRUE\n",
       "102. FALSE\n",
       "103. FALSE\n",
       "104. TRUE\n",
       "105. TRUE\n",
       "106. TRUE\n",
       "107. FALSE\n",
       "108. TRUE\n",
       "109. TRUE\n",
       "110. TRUE\n",
       "111. TRUE\n",
       "112. TRUE\n",
       "113. TRUE\n",
       "114. TRUE\n",
       "115. FALSE\n",
       "116. TRUE\n",
       "117. TRUE\n",
       "118. TRUE\n",
       "119. FALSE\n",
       "120. TRUE\n",
       "121. TRUE\n",
       "122. TRUE\n",
       "123. TRUE\n",
       "124. TRUE\n",
       "125. TRUE\n",
       "126. TRUE\n",
       "127. TRUE\n",
       "128. TRUE\n",
       "129. TRUE\n",
       "130. TRUE\n",
       "131. TRUE\n",
       "132. TRUE\n",
       "133. TRUE\n",
       "134. TRUE\n",
       "135. TRUE\n",
       "136. TRUE\n",
       "137. TRUE\n",
       "138. TRUE\n",
       "139. TRUE\n",
       "140. TRUE\n",
       "141. TRUE\n",
       "142. TRUE\n",
       "143. TRUE\n",
       "144. TRUE\n",
       "145. TRUE\n",
       "146. TRUE\n",
       "147. TRUE\n",
       "148. TRUE\n",
       "149. TRUE\n",
       "150. FALSE\n",
       "151. TRUE\n",
       "152. TRUE\n",
       "153. TRUE\n",
       "\n",
       "\n"
      ],
      "text/plain": [
       "  [1]  TRUE  TRUE  TRUE  TRUE FALSE  TRUE  TRUE  TRUE  TRUE FALSE  TRUE  TRUE\n",
       " [13]  TRUE  TRUE  TRUE  TRUE  TRUE  TRUE  TRUE  TRUE  TRUE  TRUE  TRUE  TRUE\n",
       " [25] FALSE FALSE FALSE  TRUE  TRUE  TRUE  TRUE FALSE FALSE FALSE FALSE FALSE\n",
       " [37] FALSE  TRUE FALSE  TRUE  TRUE FALSE FALSE  TRUE FALSE FALSE  TRUE  TRUE\n",
       " [49]  TRUE  TRUE  TRUE FALSE FALSE FALSE FALSE FALSE FALSE FALSE FALSE FALSE\n",
       " [61] FALSE  TRUE  TRUE  TRUE FALSE  TRUE  TRUE  TRUE  TRUE  TRUE  TRUE FALSE\n",
       " [73]  TRUE  TRUE FALSE  TRUE  TRUE  TRUE  TRUE  TRUE  TRUE  TRUE FALSE FALSE\n",
       " [85]  TRUE  TRUE  TRUE  TRUE  TRUE  TRUE  TRUE  TRUE  TRUE  TRUE  TRUE  TRUE\n",
       " [97]  TRUE  TRUE  TRUE  TRUE  TRUE FALSE FALSE  TRUE  TRUE  TRUE FALSE  TRUE\n",
       "[109]  TRUE  TRUE  TRUE  TRUE  TRUE  TRUE FALSE  TRUE  TRUE  TRUE FALSE  TRUE\n",
       "[121]  TRUE  TRUE  TRUE  TRUE  TRUE  TRUE  TRUE  TRUE  TRUE  TRUE  TRUE  TRUE\n",
       "[133]  TRUE  TRUE  TRUE  TRUE  TRUE  TRUE  TRUE  TRUE  TRUE  TRUE  TRUE  TRUE\n",
       "[145]  TRUE  TRUE  TRUE  TRUE  TRUE FALSE  TRUE  TRUE  TRUE"
      ]
     },
     "metadata": {},
     "output_type": "display_data"
    }
   ],
   "source": [
    "# Solution:\n",
    "missing_ind=complete.cases(Ozone)\n",
    "missing_ind # Creates a missing indicator for the variable ozone."
   ]
  },
  {
   "cell_type": "markdown",
   "id": "6f8fc876-37b5-4688-abb0-f39961761c14",
   "metadata": {},
   "source": [
    "**(g) Use the function which together with the argument arr.ind to de-\n",
    "termine the indices (i.e. column and row numbers) for the missing\n",
    "observations in the dataset airquality.**"
   ]
  },
  {
   "cell_type": "code",
   "execution_count": 7,
   "id": "9872bb52-8f6c-4db3-a73e-fdbc969eb15c",
   "metadata": {},
   "outputs": [
    {
     "data": {
      "text/html": [
       "<style>\n",
       ".list-inline {list-style: none; margin:0; padding: 0}\n",
       ".list-inline>li {display: inline-block}\n",
       ".list-inline>li:not(:last-child)::after {content: \"\\00b7\"; padding: 0 .5ex}\n",
       "</style>\n",
       "<ol class=list-inline><li>44</li><li>2</li></ol>\n"
      ],
      "text/latex": [
       "\\begin{enumerate*}\n",
       "\\item 44\n",
       "\\item 2\n",
       "\\end{enumerate*}\n"
      ],
      "text/markdown": [
       "1. 44\n",
       "2. 2\n",
       "\n",
       "\n"
      ],
      "text/plain": [
       "[1] 44  2"
      ]
     },
     "metadata": {},
     "output_type": "display_data"
    }
   ],
   "source": [
    "# Solution:\n",
    "d=which(is.na(airquality),arr.ind=TRUE)\n",
    "dim(d)"
   ]
  },
  {
   "cell_type": "markdown",
   "id": "eb9a56e3-42e7-4f01-94aa-b02dd0f4a011",
   "metadata": {},
   "source": [
    "## 2. In this exercise, we’re going to use the function impute in the package mlr to compare some different methods for replacing missing values (=impute) in the variable Ozone in the dataset airquality."
   ]
  },
  {
   "cell_type": "markdown",
   "id": "e3999162-dbc4-4d92-b77e-18cf08cbdc52",
   "metadata": {},
   "source": [
    "**(a) Load the library DataExplorer.**"
   ]
  },
  {
   "cell_type": "code",
   "execution_count": 8,
   "id": "e9e13454-78eb-4b6c-9c47-aa27de3d59b9",
   "metadata": {},
   "outputs": [],
   "source": [
    "# Solution:\n",
    "library(DataExplorer)"
   ]
  },
  {
   "cell_type": "markdown",
   "id": "e471c095-0e7b-4b53-9429-8d2fff49ae49",
   "metadata": {},
   "source": [
    "**(b) Use the function `plot_missing` to get an overview over the missing\n",
    "values in the dataset airquality.**"
   ]
  },
  {
   "cell_type": "code",
   "execution_count": 9,
   "id": "31ac7edc-98fa-4a09-931d-f7032cef5910",
   "metadata": {},
   "outputs": [
    {
     "data": {
      "image/png": "[encoded data removed]",
      "text/plain": [
       "plot without title"
      ]
     },
     "metadata": {
      "image/png": {
       "height": 420,
       "width": 420
      }
     },
     "output_type": "display_data"
    }
   ],
   "source": [
    "plot_missing(airquality)"
   ]
  },
  {
   "cell_type": "markdown",
   "id": "6356619c-cf70-458a-86c9-c044f31ccb14",
   "metadata": {},
   "source": [
    "**(c) Load the library mlr.**"
   ]
  },
  {
   "cell_type": "code",
   "execution_count": 10,
   "id": "c332c5bb-9a34-431b-8765-fa02e9d9c348",
   "metadata": {},
   "outputs": [
    {
     "name": "stderr",
     "output_type": "stream",
     "text": [
      "Loading required package: ParamHelpers\n",
      "\n"
     ]
    }
   ],
   "source": [
    "# Solution:\n",
    "library(mlr)"
   ]
  },
  {
   "cell_type": "markdown",
   "id": "ce7fef87-50b8-402e-8a01-c1e12230f1cc",
   "metadata": {},
   "source": [
    "**(d) Replace the missing values in the variable Ozone in the original data\n",
    "with the constant 100. What’s the difference if you in the function\n",
    "imputation use the constant 100 or the constant ”100”?**"
   ]
  },
  {
   "cell_type": "code",
   "execution_count": 11,
   "id": "9cecd02f-2e9c-43c7-b464-82f639ee8e1a",
   "metadata": {},
   "outputs": [],
   "source": [
    "# Solution:\n",
    "imputed = impute(airquality, cols = list(Ozone = 100))\n",
    "imp_ozone = imputed$data[,1]"
   ]
  },
  {
   "cell_type": "markdown",
   "id": "6937a739-8f5f-4f0b-abf8-a52df3f3bd7d",
   "metadata": {},
   "source": [
    "**(e) Replace the missing values in the variable Ozone in the original data\n",
    "with the median of the original variable Ozone.**"
   ]
  },
  {
   "cell_type": "code",
   "execution_count": 12,
   "id": "cbd90b7a-177e-4121-8667-05d0ad0a39e6",
   "metadata": {},
   "outputs": [],
   "source": [
    "# Solution:\n",
    "imputed2 = impute(airquality, cols = list(Ozone = imputeMedian()))\n",
    "imp_ozone2=imputed2$data[,1]"
   ]
  },
  {
   "cell_type": "markdown",
   "id": "f8134594-97ff-446f-a1a3-5e18800af4d1",
   "metadata": {},
   "source": [
    "**(f) Replace the missing values in the variable Ozone in the original data\n",
    "with the constant 0.**"
   ]
  },
  {
   "cell_type": "code",
   "execution_count": 13,
   "id": "7f31be7d-1ccc-4e37-8f3c-4cc908d07c98",
   "metadata": {},
   "outputs": [],
   "source": [
    "# Solution:\n",
    "imputed3 = impute(airquality, cols = list(Ozone = 0))\n",
    "imp_ozone3=imputed3$data[,1]"
   ]
  },
  {
   "cell_type": "markdown",
   "id": "54e178af-c3f1-4f82-be5c-0b04f9d8da41",
   "metadata": {},
   "source": [
    "**(g) Replace the missing values in the variable Ozone in the original data\n",
    "with random numbers drawn from an appropriate normal distribution.**"
   ]
  },
  {
   "cell_type": "code",
   "execution_count": 14,
   "id": "ba845fc2-8570-4fe4-884d-da2746408525",
   "metadata": {},
   "outputs": [],
   "source": [
    "# Solution:\n",
    "imputed4 = impute(airquality, cols = list(Ozone = imputeNormal()))\n",
    "imp_ozone4=imputed4$data[,1]"
   ]
  },
  {
   "cell_type": "markdown",
   "id": "69ecdee5-db93-4b93-8b5b-c1cc968a7960",
   "metadata": {},
   "source": [
    "**(h) Replace the missing values in the variable Ozone in the original data\n",
    "with random numbers drawn from the actual distribution of the data.**"
   ]
  },
  {
   "cell_type": "code",
   "execution_count": 15,
   "id": "f3b07a31-7711-458d-9db3-ebf35ff1faf0",
   "metadata": {},
   "outputs": [],
   "source": [
    "# Solution:\n",
    "imputed5 = impute(airquality, cols = list(Ozone = imputeHist()))\n",
    "imp_ozone5=imputed5$data[,1]"
   ]
  },
  {
   "cell_type": "markdown",
   "id": "d106943c-21fa-408e-822c-1b97b205de5d",
   "metadata": {},
   "source": [
    "**(i) Use one graphics window to plot six histograms for the original data\n",
    "and the resulting data from the five imputation methods used above\n",
    "(Function par(mfrow=c(yourvalue, yourvalue)) to plot more than one\n",
    "histogram in the same window).\n",
    "Each histogram should consist of 25 groups (bins). All histograms\n",
    "shall have the same y-axis scaling.**"
   ]
  },
  {
   "cell_type": "code",
   "execution_count": 16,
   "id": "b299ebd8-2f52-48fc-b792-f6e9ccfa3ed7",
   "metadata": {},
   "outputs": [
    {
     "data": {
      "image/png": "[encoded data removed]",
      "text/plain": [
       "Plot with title “Imputation with histogram”"
      ]
     },
     "metadata": {
      "image/png": {
       "height": 420,
       "width": 420
      }
     },
     "output_type": "display_data"
    }
   ],
   "source": [
    "# Solution:\n",
    "par(mfrow=c(2,3))\n",
    "hist(Ozone,breaks=25,ylim=(c(0,45)),main=\"Original data\")\n",
    "hist(imp_ozone,breaks=25,ylim=(c(0,45)),main=\"Imputation with 100\")\n",
    "hist(imp_ozone2,breaks=25,ylim=(c(0,45)),main=\"Imputation with median\")\n",
    "hist(imp_ozone3,breaks=25,ylim=(c(0,45)),main=\"Imputation with 0\")\n",
    "hist(imp_ozone4,breaks=25,ylim=(c(0,45)),main=\"Imputation with normal distr.\")\n",
    "hist(imp_ozone5,breaks=25,ylim=(c(0,45)),main=\"Imputation with histogram\")"
   ]
  },
  {
   "cell_type": "markdown",
   "id": "6fbdba36-ca7d-4569-9a7c-0a07ae957e17",
   "metadata": {},
   "source": [
    "**(j) Calculate the mean value for the original data as well as the five\n",
    "means for the resulting data from the five imputation methods used\n",
    "above (one mean for each imputation method).**"
   ]
  },
  {
   "cell_type": "code",
   "execution_count": 17,
   "id": "22c2731e-19f5-4d96-bf57-55854230f403",
   "metadata": {},
   "outputs": [
    {
     "data": {
      "text/html": [
       "41.2875816993464"
      ],
      "text/latex": [
       "41.2875816993464"
      ],
      "text/markdown": [
       "41.2875816993464"
      ],
      "text/plain": [
       "[1] 41.28758"
      ]
     },
     "metadata": {},
     "output_type": "display_data"
    },
    {
     "data": {
      "text/html": [
       "41.9806613528076"
      ],
      "text/latex": [
       "41.9806613528076"
      ],
      "text/markdown": [
       "41.9806613528076"
      ],
      "text/plain": [
       "[1] 41.98066"
      ]
     },
     "metadata": {},
     "output_type": "display_data"
    },
    {
     "data": {
      "text/html": [
       "41.2875816993464"
      ],
      "text/latex": [
       "41.2875816993464"
      ],
      "text/markdown": [
       "41.2875816993464"
      ],
      "text/plain": [
       "[1] 41.28758"
      ]
     },
     "metadata": {},
     "output_type": "display_data"
    },
    {
     "data": {
      "text/html": [
       "39.5588235294118"
      ],
      "text/latex": [
       "39.5588235294118"
      ],
      "text/markdown": [
       "39.5588235294118"
      ],
      "text/plain": [
       "[1] 39.55882"
      ]
     },
     "metadata": {},
     "output_type": "display_data"
    },
    {
     "data": {
      "text/html": [
       "56.124183006536"
      ],
      "text/latex": [
       "56.124183006536"
      ],
      "text/markdown": [
       "56.124183006536"
      ],
      "text/plain": [
       "[1] 56.12418"
      ]
     },
     "metadata": {},
     "output_type": "display_data"
    },
    {
     "data": {
      "text/html": [
       "42.1293103448276"
      ],
      "text/latex": [
       "42.1293103448276"
      ],
      "text/markdown": [
       "42.1293103448276"
      ],
      "text/plain": [
       "[1] 42.12931"
      ]
     },
     "metadata": {},
     "output_type": "display_data"
    }
   ],
   "source": [
    "# Solution:\n",
    "mean(imp_ozone5)\n",
    "mean(imp_ozone4)\n",
    "mean(imp_ozone5)\n",
    "mean(imp_ozone2)\n",
    "mean(imp_ozone)\n",
    "mean(Ozone, na.rm=TRUE)"
   ]
  },
  {
   "cell_type": "markdown",
   "id": "728663c3-de46-4040-8c27-2de7cc1a577e",
   "metadata": {},
   "source": [
    "**(k) Compare the five distributions in e) and also compare the four mean\n",
    "values in f).\n",
    "Which imputation method would you prefer? Why?**"
   ]
  },
  {
   "cell_type": "markdown",
   "id": "64bb4435-34f9-4f72-b0b9-48563127d6b3",
   "metadata": {},
   "source": [
    "## 3. Case Study:\n",
    "## Direct mail marketing campaign for clothing\n",
    ">The data in this real-world case study are based on a direct mail mar-\n",
    "keting campaign conducted last year. Our final goal will be to develop\n",
    "classification models for this year’s marketing campaign (so that we can\n",
    "predict if a customer is going to respond to the markeing campaign or\n",
    "not).\n",
    "The dataset contains many different variables with customer information,\n",
    "useful or not, dirty or not ...\n",
    "The way to reach our final goal is long and we’ve got to struggle a bit. In\n",
    "this assignment, we take a first glance at the data and do some initial data\n",
    "preparation. The case study will be continued in other assigments (also\n",
    "using the results of this assignment! Don’t forget to save your results!)."
   ]
  },
  {
   "cell_type": "markdown",
   "id": "25b90f1e-52a3-47bf-b7ab-092271c81b2e",
   "metadata": {},
   "source": [
    "**(a) Load the dataset Clothing Store into R. This dataset is described\n",
    "below.**"
   ]
  },
  {
   "cell_type": "code",
   "execution_count": 18,
   "id": "4a2cec8b-22d2-4fdc-aab7-1c5e21865b95",
   "metadata": {},
   "outputs": [],
   "source": [
    "# Solution:\n",
    "clothing = read.csv(file=\"data/clothing_store.txt\")"
   ]
  },
  {
   "cell_type": "markdown",
   "id": "3748489e-a8d0-400c-a4b2-7e6f38bf3a18",
   "metadata": {},
   "source": [
    "**(b) What are the variable names in this dataset?**"
   ]
  },
  {
   "cell_type": "code",
   "execution_count": 19,
   "id": "00065999-7c61-450a-b82e-c7bb34d8a58f",
   "metadata": {},
   "outputs": [
    {
     "data": {
      "text/html": [
       "<style>\n",
       ".list-inline {list-style: none; margin:0; padding: 0}\n",
       ".list-inline>li {display: inline-block}\n",
       ".list-inline>li:not(:last-child)::after {content: \"\\00b7\"; padding: 0 .5ex}\n",
       "</style>\n",
       "<ol class=list-inline><li>'HHKEY'</li><li>'ZIP_CODE'</li><li>'REC'</li><li>'FRE'</li><li>'MON'</li><li>'CC_CARD'</li><li>'AVRG'</li><li>'PC_CALC20'</li><li>'PSWEATERS'</li><li>'PKNIT_TOPS'</li><li>'PKNIT_DRES'</li><li>'PBLOUSES'</li><li>'PJACKETS'</li><li>'PCAR_PNTS'</li><li>'PCAS_PNTS'</li><li>'PSHIRTS'</li><li>'PDRESSES'</li><li>'PSUITS'</li><li>'POUTERWEAR'</li><li>'PJEWELRY'</li><li>'PFASHION'</li><li>'PLEGWEAR'</li><li>'PCOLLSPND'</li><li>'AMSPEND'</li><li>'PSSPEND'</li><li>'CCSPEND'</li><li>'AXSPEND'</li><li>'TMONSPEND'</li><li>'OMONSPEND'</li><li>'SMONSPEND'</li><li>'PREVPD'</li><li>'GMP'</li><li>'PROMOS'</li><li>'DAYS'</li><li>'FREDAYS'</li><li>'MARKDOWN'</li><li>'CLASSES'</li><li>'COUPONS'</li><li>'STYLES'</li><li>'STORES'</li><li>'STORELOY'</li><li>'VALPHON'</li><li>'WEB'</li><li>'MAILED'</li><li>'RESPONDED'</li><li>'RESPONSERATE'</li><li>'HI'</li><li>'LTFREDAY'</li><li>'CLUSTYPE'</li><li>'PERCRET'</li><li>'RESP'</li></ol>\n"
      ],
      "text/latex": [
       "\\begin{enumerate*}\n",
       "\\item 'HHKEY'\n",
       "\\item 'ZIP\\_CODE'\n",
       "\\item 'REC'\n",
       "\\item 'FRE'\n",
       "\\item 'MON'\n",
       "\\item 'CC\\_CARD'\n",
       "\\item 'AVRG'\n",
       "\\item 'PC\\_CALC20'\n",
       "\\item 'PSWEATERS'\n",
       "\\item 'PKNIT\\_TOPS'\n",
       "\\item 'PKNIT\\_DRES'\n",
       "\\item 'PBLOUSES'\n",
       "\\item 'PJACKETS'\n",
       "\\item 'PCAR\\_PNTS'\n",
       "\\item 'PCAS\\_PNTS'\n",
       "\\item 'PSHIRTS'\n",
       "\\item 'PDRESSES'\n",
       "\\item 'PSUITS'\n",
       "\\item 'POUTERWEAR'\n",
       "\\item 'PJEWELRY'\n",
       "\\item 'PFASHION'\n",
       "\\item 'PLEGWEAR'\n",
       "\\item 'PCOLLSPND'\n",
       "\\item 'AMSPEND'\n",
       "\\item 'PSSPEND'\n",
       "\\item 'CCSPEND'\n",
       "\\item 'AXSPEND'\n",
       "\\item 'TMONSPEND'\n",
       "\\item 'OMONSPEND'\n",
       "\\item 'SMONSPEND'\n",
       "\\item 'PREVPD'\n",
       "\\item 'GMP'\n",
       "\\item 'PROMOS'\n",
       "\\item 'DAYS'\n",
       "\\item 'FREDAYS'\n",
       "\\item 'MARKDOWN'\n",
       "\\item 'CLASSES'\n",
       "\\item 'COUPONS'\n",
       "\\item 'STYLES'\n",
       "\\item 'STORES'\n",
       "\\item 'STORELOY'\n",
       "\\item 'VALPHON'\n",
       "\\item 'WEB'\n",
       "\\item 'MAILED'\n",
       "\\item 'RESPONDED'\n",
       "\\item 'RESPONSERATE'\n",
       "\\item 'HI'\n",
       "\\item 'LTFREDAY'\n",
       "\\item 'CLUSTYPE'\n",
       "\\item 'PERCRET'\n",
       "\\item 'RESP'\n",
       "\\end{enumerate*}\n"
      ],
      "text/markdown": [
       "1. 'HHKEY'\n",
       "2. 'ZIP_CODE'\n",
       "3. 'REC'\n",
       "4. 'FRE'\n",
       "5. 'MON'\n",
       "6. 'CC_CARD'\n",
       "7. 'AVRG'\n",
       "8. 'PC_CALC20'\n",
       "9. 'PSWEATERS'\n",
       "10. 'PKNIT_TOPS'\n",
       "11. 'PKNIT_DRES'\n",
       "12. 'PBLOUSES'\n",
       "13. 'PJACKETS'\n",
       "14. 'PCAR_PNTS'\n",
       "15. 'PCAS_PNTS'\n",
       "16. 'PSHIRTS'\n",
       "17. 'PDRESSES'\n",
       "18. 'PSUITS'\n",
       "19. 'POUTERWEAR'\n",
       "20. 'PJEWELRY'\n",
       "21. 'PFASHION'\n",
       "22. 'PLEGWEAR'\n",
       "23. 'PCOLLSPND'\n",
       "24. 'AMSPEND'\n",
       "25. 'PSSPEND'\n",
       "26. 'CCSPEND'\n",
       "27. 'AXSPEND'\n",
       "28. 'TMONSPEND'\n",
       "29. 'OMONSPEND'\n",
       "30. 'SMONSPEND'\n",
       "31. 'PREVPD'\n",
       "32. 'GMP'\n",
       "33. 'PROMOS'\n",
       "34. 'DAYS'\n",
       "35. 'FREDAYS'\n",
       "36. 'MARKDOWN'\n",
       "37. 'CLASSES'\n",
       "38. 'COUPONS'\n",
       "39. 'STYLES'\n",
       "40. 'STORES'\n",
       "41. 'STORELOY'\n",
       "42. 'VALPHON'\n",
       "43. 'WEB'\n",
       "44. 'MAILED'\n",
       "45. 'RESPONDED'\n",
       "46. 'RESPONSERATE'\n",
       "47. 'HI'\n",
       "48. 'LTFREDAY'\n",
       "49. 'CLUSTYPE'\n",
       "50. 'PERCRET'\n",
       "51. 'RESP'\n",
       "\n",
       "\n"
      ],
      "text/plain": [
       " [1] \"HHKEY\"        \"ZIP_CODE\"     \"REC\"          \"FRE\"          \"MON\"         \n",
       " [6] \"CC_CARD\"      \"AVRG\"         \"PC_CALC20\"    \"PSWEATERS\"    \"PKNIT_TOPS\"  \n",
       "[11] \"PKNIT_DRES\"   \"PBLOUSES\"     \"PJACKETS\"     \"PCAR_PNTS\"    \"PCAS_PNTS\"   \n",
       "[16] \"PSHIRTS\"      \"PDRESSES\"     \"PSUITS\"       \"POUTERWEAR\"   \"PJEWELRY\"    \n",
       "[21] \"PFASHION\"     \"PLEGWEAR\"     \"PCOLLSPND\"    \"AMSPEND\"      \"PSSPEND\"     \n",
       "[26] \"CCSPEND\"      \"AXSPEND\"      \"TMONSPEND\"    \"OMONSPEND\"    \"SMONSPEND\"   \n",
       "[31] \"PREVPD\"       \"GMP\"          \"PROMOS\"       \"DAYS\"         \"FREDAYS\"     \n",
       "[36] \"MARKDOWN\"     \"CLASSES\"      \"COUPONS\"      \"STYLES\"       \"STORES\"      \n",
       "[41] \"STORELOY\"     \"VALPHON\"      \"WEB\"          \"MAILED\"       \"RESPONDED\"   \n",
       "[46] \"RESPONSERATE\" \"HI\"           \"LTFREDAY\"     \"CLUSTYPE\"     \"PERCRET\"     \n",
       "[51] \"RESP\"        "
      ]
     },
     "metadata": {},
     "output_type": "display_data"
    }
   ],
   "source": [
    "# Solution:\n",
    "names(clothing)"
   ]
  },
  {
   "cell_type": "markdown",
   "id": "83821f30-269c-4ffa-a0ad-e01338281ec6",
   "metadata": {},
   "source": [
    "**(c) How many observations and variables are there in the dataset?**"
   ]
  },
  {
   "cell_type": "code",
   "execution_count": 20,
   "id": "7e633d0a-4e7c-49c8-a743-5fefbe77b17a",
   "metadata": {},
   "outputs": [
    {
     "data": {
      "text/html": [
       "<style>\n",
       ".list-inline {list-style: none; margin:0; padding: 0}\n",
       ".list-inline>li {display: inline-block}\n",
       ".list-inline>li:not(:last-child)::after {content: \"\\00b7\"; padding: 0 .5ex}\n",
       "</style>\n",
       "<ol class=list-inline><li>21740</li><li>51</li></ol>\n"
      ],
      "text/latex": [
       "\\begin{enumerate*}\n",
       "\\item 21740\n",
       "\\item 51\n",
       "\\end{enumerate*}\n"
      ],
      "text/markdown": [
       "1. 21740\n",
       "2. 51\n",
       "\n",
       "\n"
      ],
      "text/plain": [
       "[1] 21740    51"
      ]
     },
     "metadata": {},
     "output_type": "display_data"
    }
   ],
   "source": [
    "# Solution:\n",
    "dim(clothing)"
   ]
  },
  {
   "cell_type": "markdown",
   "id": "94ab3521-411c-44c4-a942-91f096a1fcf7",
   "metadata": {},
   "source": [
    "**(d) Use the function sample (in the base package) to randomly select\n",
    "70% of the dataset to be in the training dataset and the remaining\n",
    "30% of the dataset to be in the validation dataset. Setr the seed of\n",
    "the random number generator to 42, to make your sample replicable.\n",
    "Hint:\n",
    "Actually, you are first just going to randomly select 70% of the to-\n",
    "tal number of observations in the dataset Clothing Store and the\n",
    "corresponding 30% as you choose the validation data. As a second\n",
    "step, you then select the training data as the data rows in the dataset\n",
    "clothing having the row numbers for training data . The other rows\n",
    "in clothing are the validation data.\n",
    "Another hint:\n",
    "The functions set len and setdiff can be useful.**"
   ]
  },
  {
   "cell_type": "code",
   "execution_count": 21,
   "id": "b2f46d59-2a20-488c-ba23-437cce960732",
   "metadata": {},
   "outputs": [
    {
     "data": {
      "text/html": [
       "15217"
      ],
      "text/latex": [
       "15217"
      ],
      "text/markdown": [
       "15217"
      ],
      "text/plain": [
       "[1] 15217"
      ]
     },
     "metadata": {},
     "output_type": "display_data"
    },
    {
     "data": {
      "text/html": [
       "6522"
      ],
      "text/latex": [
       "6522"
      ],
      "text/markdown": [
       "6522"
      ],
      "text/plain": [
       "[1] 6522"
      ]
     },
     "metadata": {},
     "output_type": "display_data"
    }
   ],
   "source": [
    "# Solution:\n",
    "set.seed(42)\n",
    "clothing_nobs = nrow(clothing)\n",
    "# To get the row numbers of the sampled training data:\n",
    "clothing_train_no = sample(nrow(clothing), 0.7*clothing_nobs)\n",
    "\n",
    "# To get the row numbers of the sampled validation data:\n",
    "clothing_validate_no = sample(setdiff(seq_len(nrow(clothing)),\n",
    "clothing_train_no), 0.30*clothing_nobs)\n",
    "\n",
    "# To get the length of the future training and validation data:\n",
    "length(clothing_train_no)\n",
    "length(clothing_validate_no)\n",
    "# Now, create the training and validation data sets from the total data set, using the randomly selected row numbers above:\n",
    "training_data=clothing[clothing_train_no,]\n",
    "validation_data=clothing[clothing_validate_no,]"
   ]
  },
  {
   "cell_type": "markdown",
   "id": "50b57d53-7224-4f98-a054-969555bb29e0",
   "metadata": {},
   "source": [
    "**(d) Why is the partitioning into training and validation data important\n",
    "for the modeling process?\n",
    "Should sampling be with replacement or not?\n",
    "How many observations are there in the training data set? How many\n",
    "observations are there in the validation data set?**"
   ]
  },
  {
   "cell_type": "code",
   "execution_count": 22,
   "id": "a9c07045-ad9f-420f-a568-036ffa521ef9",
   "metadata": {},
   "outputs": [
    {
     "data": {
      "text/html": [
       "<style>\n",
       ".list-inline {list-style: none; margin:0; padding: 0}\n",
       ".list-inline>li {display: inline-block}\n",
       ".list-inline>li:not(:last-child)::after {content: \"\\00b7\"; padding: 0 .5ex}\n",
       "</style>\n",
       "<ol class=list-inline><li>15217</li><li>51</li></ol>\n"
      ],
      "text/latex": [
       "\\begin{enumerate*}\n",
       "\\item 15217\n",
       "\\item 51\n",
       "\\end{enumerate*}\n"
      ],
      "text/markdown": [
       "1. 15217\n",
       "2. 51\n",
       "\n",
       "\n"
      ],
      "text/plain": [
       "[1] 15217    51"
      ]
     },
     "metadata": {},
     "output_type": "display_data"
    },
    {
     "data": {
      "text/html": [
       "<style>\n",
       ".list-inline {list-style: none; margin:0; padding: 0}\n",
       ".list-inline>li {display: inline-block}\n",
       ".list-inline>li:not(:last-child)::after {content: \"\\00b7\"; padding: 0 .5ex}\n",
       "</style>\n",
       "<ol class=list-inline><li>6522</li><li>51</li></ol>\n"
      ],
      "text/latex": [
       "\\begin{enumerate*}\n",
       "\\item 6522\n",
       "\\item 51\n",
       "\\end{enumerate*}\n"
      ],
      "text/markdown": [
       "1. 6522\n",
       "2. 51\n",
       "\n",
       "\n"
      ],
      "text/plain": [
       "[1] 6522   51"
      ]
     },
     "metadata": {},
     "output_type": "display_data"
    }
   ],
   "source": [
    "# Solution:\n",
    "dim(training_data)\n",
    "dim(validation_data)"
   ]
  },
  {
   "cell_type": "markdown",
   "id": "d1c7dc64-4fff-424e-a63e-f66028e51b2a",
   "metadata": {},
   "source": [
    "**(e) Find a variable with two unique levels!\n",
    "Find a variable with 15217 unique levels!\n",
    "Determine the number of unique levels for some of the other variables!\n",
    "Hint:\n",
    "You can use the function unique to determine the different levels of\n",
    "a variable.**"
   ]
  },
  {
   "cell_type": "code",
   "execution_count": 23,
   "id": "1318552e-8abc-4c15-81ec-3d91d67ea7e6",
   "metadata": {},
   "outputs": [
    {
     "data": {
      "text/html": [
       "15217"
      ],
      "text/latex": [
       "15217"
      ],
      "text/markdown": [
       "15217"
      ],
      "text/plain": [
       "[1] 15217"
      ]
     },
     "metadata": {},
     "output_type": "display_data"
    },
    {
     "data": {
      "text/html": [
       "2"
      ],
      "text/latex": [
       "2"
      ],
      "text/markdown": [
       "2"
      ],
      "text/plain": [
       "[1] 2"
      ]
     },
     "metadata": {},
     "output_type": "display_data"
    },
    {
     "data": {
      "text/html": [
       "387"
      ],
      "text/latex": [
       "387"
      ],
      "text/markdown": [
       "387"
      ],
      "text/plain": [
       "[1] 387"
      ]
     },
     "metadata": {},
     "output_type": "display_data"
    },
    {
     "data": {
      "text/html": [
       "51"
      ],
      "text/latex": [
       "51"
      ],
      "text/markdown": [
       "51"
      ],
      "text/plain": [
       "[1] 51"
      ]
     },
     "metadata": {},
     "output_type": "display_data"
    },
    {
     "data": {
      "text/html": [
       "2"
      ],
      "text/latex": [
       "2"
      ],
      "text/markdown": [
       "2"
      ],
      "text/plain": [
       "[1] 2"
      ]
     },
     "metadata": {},
     "output_type": "display_data"
    },
    {
     "data": {
      "text/html": [
       "2"
      ],
      "text/latex": [
       "2"
      ],
      "text/markdown": [
       "2"
      ],
      "text/plain": [
       "[1] 2"
      ]
     },
     "metadata": {},
     "output_type": "display_data"
    }
   ],
   "source": [
    "# Solution:\n",
    "attach(training_data)\n",
    "length(unique(HHKEY))\n",
    "length(unique(RESP))\n",
    "length(unique(PKNIT_TOPS))\n",
    "length(unique(CLUSTYPE))\n",
    "length(unique(CC_CARD))\n",
    "length(unique(WEB))"
   ]
  },
  {
   "cell_type": "markdown",
   "id": "f6675dfe-4d9a-4735-bb90-7e92e17a0e3f",
   "metadata": {},
   "source": [
    "**(f) Distribution of the target variable<br>\n",
    "The target variable is the variable RESP. Construct a histogram\n",
    "to see the distribution of this variable. What are the different lev-\n",
    "els? What is the proportion of responders? What about symme-\n",
    "try/skewness?**"
   ]
  },
  {
   "cell_type": "code",
   "execution_count": 24,
   "id": "11d97677-c336-469d-9987-b0a2b0e60524",
   "metadata": {},
   "outputs": [
    {
     "data": {
      "text/html": [
       "<style>\n",
       ".list-inline {list-style: none; margin:0; padding: 0}\n",
       ".list-inline>li {display: inline-block}\n",
       ".list-inline>li:not(:last-child)::after {content: \"\\00b7\"; padding: 0 .5ex}\n",
       "</style>\n",
       "<ol class=list-inline><li>0</li><li>1</li></ol>\n"
      ],
      "text/latex": [
       "\\begin{enumerate*}\n",
       "\\item 0\n",
       "\\item 1\n",
       "\\end{enumerate*}\n"
      ],
      "text/markdown": [
       "1. 0\n",
       "2. 1\n",
       "\n",
       "\n"
      ],
      "text/plain": [
       "[1] 0 1"
      ]
     },
     "metadata": {},
     "output_type": "display_data"
    },
    {
     "data": {
      "text/html": [
       "<style>\n",
       ".list-inline {list-style: none; margin:0; padding: 0}\n",
       ".list-inline>li {display: inline-block}\n",
       ".list-inline>li:not(:last-child)::after {content: \"\\00b7\"; padding: 0 .5ex}\n",
       "</style>\n",
       "<ol class=list-inline><li>12682</li><li>51</li></ol>\n"
      ],
      "text/latex": [
       "\\begin{enumerate*}\n",
       "\\item 12682\n",
       "\\item 51\n",
       "\\end{enumerate*}\n"
      ],
      "text/markdown": [
       "1. 12682\n",
       "2. 51\n",
       "\n",
       "\n"
      ],
      "text/plain": [
       "[1] 12682    51"
      ]
     },
     "metadata": {},
     "output_type": "display_data"
    },
    {
     "data": {
      "text/html": [
       "<style>\n",
       ".list-inline {list-style: none; margin:0; padding: 0}\n",
       ".list-inline>li {display: inline-block}\n",
       ".list-inline>li:not(:last-child)::after {content: \"\\00b7\"; padding: 0 .5ex}\n",
       "</style>\n",
       "<ol class=list-inline><li>2535</li><li>51</li></ol>\n"
      ],
      "text/latex": [
       "\\begin{enumerate*}\n",
       "\\item 2535\n",
       "\\item 51\n",
       "\\end{enumerate*}\n"
      ],
      "text/markdown": [
       "1. 2535\n",
       "2. 51\n",
       "\n",
       "\n"
      ],
      "text/plain": [
       "[1] 2535   51"
      ]
     },
     "metadata": {},
     "output_type": "display_data"
    },
    {
     "data": {
      "image/png": "[encoded data removed]",
      "text/plain": [
       "Plot with title “Histogram of RESP”"
      ]
     },
     "metadata": {
      "image/png": {
       "height": 420,
       "width": 420
      }
     },
     "output_type": "display_data"
    }
   ],
   "source": [
    "# Solution:\n",
    "hist(RESP)\n",
    "unique(RESP)\n",
    "data_one = training_data[RESP==1,]\n",
    "data_zero = training_data[RESP==0,]\n",
    "dim(data_zero)\n",
    "dim(data_one)"
   ]
  },
  {
   "cell_type": "markdown",
   "id": "117bf590-1feb-430b-8244-f7fd1b4d1def",
   "metadata": {},
   "source": [
    "**(g) Variables to reject<br>\n",
    "Let us first discuss if there are any variables that we can reject in the\n",
    "analysis. The first would be the variable containing the customer id\n",
    "HHKEY. Why shouldn’t we use this variable as an input variable in\n",
    "the analysis?<br>\n",
    "Another variable that we are going to reject here is the variable\n",
    "ZIP CODE. Could you think of any potential information that this\n",
    "variable could contain?<br>\n",
    "Create a new training dataset and a new validation dataset (to be\n",
    "used in the following tasks) without the variables HHKEY and ZIP CODE.**"
   ]
  },
  {
   "cell_type": "code",
   "execution_count": 25,
   "id": "63ec54d9-95c2-4cff-be86-51d84094343b",
   "metadata": {},
   "outputs": [
    {
     "data": {
      "text/html": [
       "<style>\n",
       ".list-inline {list-style: none; margin:0; padding: 0}\n",
       ".list-inline>li {display: inline-block}\n",
       ".list-inline>li:not(:last-child)::after {content: \"\\00b7\"; padding: 0 .5ex}\n",
       "</style>\n",
       "<ol class=list-inline><li>'REC'</li><li>'FRE'</li><li>'MON'</li><li>'CC_CARD'</li><li>'AVRG'</li><li>'PC_CALC20'</li><li>'PSWEATERS'</li><li>'PKNIT_TOPS'</li><li>'PKNIT_DRES'</li><li>'PBLOUSES'</li><li>'PJACKETS'</li><li>'PCAR_PNTS'</li><li>'PCAS_PNTS'</li><li>'PSHIRTS'</li><li>'PDRESSES'</li><li>'PSUITS'</li><li>'POUTERWEAR'</li><li>'PJEWELRY'</li><li>'PFASHION'</li><li>'PLEGWEAR'</li><li>'PCOLLSPND'</li><li>'AMSPEND'</li><li>'PSSPEND'</li><li>'CCSPEND'</li><li>'AXSPEND'</li><li>'TMONSPEND'</li><li>'OMONSPEND'</li><li>'SMONSPEND'</li><li>'PREVPD'</li><li>'GMP'</li><li>'PROMOS'</li><li>'DAYS'</li><li>'FREDAYS'</li><li>'MARKDOWN'</li><li>'CLASSES'</li><li>'COUPONS'</li><li>'STYLES'</li><li>'STORES'</li><li>'STORELOY'</li><li>'VALPHON'</li><li>'WEB'</li><li>'MAILED'</li><li>'RESPONDED'</li><li>'RESPONSERATE'</li><li>'HI'</li><li>'LTFREDAY'</li><li>'CLUSTYPE'</li><li>'PERCRET'</li><li>'RESP'</li></ol>\n"
      ],
      "text/latex": [
       "\\begin{enumerate*}\n",
       "\\item 'REC'\n",
       "\\item 'FRE'\n",
       "\\item 'MON'\n",
       "\\item 'CC\\_CARD'\n",
       "\\item 'AVRG'\n",
       "\\item 'PC\\_CALC20'\n",
       "\\item 'PSWEATERS'\n",
       "\\item 'PKNIT\\_TOPS'\n",
       "\\item 'PKNIT\\_DRES'\n",
       "\\item 'PBLOUSES'\n",
       "\\item 'PJACKETS'\n",
       "\\item 'PCAR\\_PNTS'\n",
       "\\item 'PCAS\\_PNTS'\n",
       "\\item 'PSHIRTS'\n",
       "\\item 'PDRESSES'\n",
       "\\item 'PSUITS'\n",
       "\\item 'POUTERWEAR'\n",
       "\\item 'PJEWELRY'\n",
       "\\item 'PFASHION'\n",
       "\\item 'PLEGWEAR'\n",
       "\\item 'PCOLLSPND'\n",
       "\\item 'AMSPEND'\n",
       "\\item 'PSSPEND'\n",
       "\\item 'CCSPEND'\n",
       "\\item 'AXSPEND'\n",
       "\\item 'TMONSPEND'\n",
       "\\item 'OMONSPEND'\n",
       "\\item 'SMONSPEND'\n",
       "\\item 'PREVPD'\n",
       "\\item 'GMP'\n",
       "\\item 'PROMOS'\n",
       "\\item 'DAYS'\n",
       "\\item 'FREDAYS'\n",
       "\\item 'MARKDOWN'\n",
       "\\item 'CLASSES'\n",
       "\\item 'COUPONS'\n",
       "\\item 'STYLES'\n",
       "\\item 'STORES'\n",
       "\\item 'STORELOY'\n",
       "\\item 'VALPHON'\n",
       "\\item 'WEB'\n",
       "\\item 'MAILED'\n",
       "\\item 'RESPONDED'\n",
       "\\item 'RESPONSERATE'\n",
       "\\item 'HI'\n",
       "\\item 'LTFREDAY'\n",
       "\\item 'CLUSTYPE'\n",
       "\\item 'PERCRET'\n",
       "\\item 'RESP'\n",
       "\\end{enumerate*}\n"
      ],
      "text/markdown": [
       "1. 'REC'\n",
       "2. 'FRE'\n",
       "3. 'MON'\n",
       "4. 'CC_CARD'\n",
       "5. 'AVRG'\n",
       "6. 'PC_CALC20'\n",
       "7. 'PSWEATERS'\n",
       "8. 'PKNIT_TOPS'\n",
       "9. 'PKNIT_DRES'\n",
       "10. 'PBLOUSES'\n",
       "11. 'PJACKETS'\n",
       "12. 'PCAR_PNTS'\n",
       "13. 'PCAS_PNTS'\n",
       "14. 'PSHIRTS'\n",
       "15. 'PDRESSES'\n",
       "16. 'PSUITS'\n",
       "17. 'POUTERWEAR'\n",
       "18. 'PJEWELRY'\n",
       "19. 'PFASHION'\n",
       "20. 'PLEGWEAR'\n",
       "21. 'PCOLLSPND'\n",
       "22. 'AMSPEND'\n",
       "23. 'PSSPEND'\n",
       "24. 'CCSPEND'\n",
       "25. 'AXSPEND'\n",
       "26. 'TMONSPEND'\n",
       "27. 'OMONSPEND'\n",
       "28. 'SMONSPEND'\n",
       "29. 'PREVPD'\n",
       "30. 'GMP'\n",
       "31. 'PROMOS'\n",
       "32. 'DAYS'\n",
       "33. 'FREDAYS'\n",
       "34. 'MARKDOWN'\n",
       "35. 'CLASSES'\n",
       "36. 'COUPONS'\n",
       "37. 'STYLES'\n",
       "38. 'STORES'\n",
       "39. 'STORELOY'\n",
       "40. 'VALPHON'\n",
       "41. 'WEB'\n",
       "42. 'MAILED'\n",
       "43. 'RESPONDED'\n",
       "44. 'RESPONSERATE'\n",
       "45. 'HI'\n",
       "46. 'LTFREDAY'\n",
       "47. 'CLUSTYPE'\n",
       "48. 'PERCRET'\n",
       "49. 'RESP'\n",
       "\n",
       "\n"
      ],
      "text/plain": [
       " [1] \"REC\"          \"FRE\"          \"MON\"          \"CC_CARD\"      \"AVRG\"        \n",
       " [6] \"PC_CALC20\"    \"PSWEATERS\"    \"PKNIT_TOPS\"   \"PKNIT_DRES\"   \"PBLOUSES\"    \n",
       "[11] \"PJACKETS\"     \"PCAR_PNTS\"    \"PCAS_PNTS\"    \"PSHIRTS\"      \"PDRESSES\"    \n",
       "[16] \"PSUITS\"       \"POUTERWEAR\"   \"PJEWELRY\"     \"PFASHION\"     \"PLEGWEAR\"    \n",
       "[21] \"PCOLLSPND\"    \"AMSPEND\"      \"PSSPEND\"      \"CCSPEND\"      \"AXSPEND\"     \n",
       "[26] \"TMONSPEND\"    \"OMONSPEND\"    \"SMONSPEND\"    \"PREVPD\"       \"GMP\"         \n",
       "[31] \"PROMOS\"       \"DAYS\"         \"FREDAYS\"      \"MARKDOWN\"     \"CLASSES\"     \n",
       "[36] \"COUPONS\"      \"STYLES\"       \"STORES\"       \"STORELOY\"     \"VALPHON\"     \n",
       "[41] \"WEB\"          \"MAILED\"       \"RESPONDED\"    \"RESPONSERATE\" \"HI\"          \n",
       "[46] \"LTFREDAY\"     \"CLUSTYPE\"     \"PERCRET\"      \"RESP\"        "
      ]
     },
     "metadata": {},
     "output_type": "display_data"
    },
    {
     "data": {
      "text/html": [
       "<style>\n",
       ".list-inline {list-style: none; margin:0; padding: 0}\n",
       ".list-inline>li {display: inline-block}\n",
       ".list-inline>li:not(:last-child)::after {content: \"\\00b7\"; padding: 0 .5ex}\n",
       "</style>\n",
       "<ol class=list-inline><li>'REC'</li><li>'FRE'</li><li>'MON'</li><li>'CC_CARD'</li><li>'AVRG'</li><li>'PC_CALC20'</li><li>'PSWEATERS'</li><li>'PKNIT_TOPS'</li><li>'PKNIT_DRES'</li><li>'PBLOUSES'</li><li>'PJACKETS'</li><li>'PCAR_PNTS'</li><li>'PCAS_PNTS'</li><li>'PSHIRTS'</li><li>'PDRESSES'</li><li>'PSUITS'</li><li>'POUTERWEAR'</li><li>'PJEWELRY'</li><li>'PFASHION'</li><li>'PLEGWEAR'</li><li>'PCOLLSPND'</li><li>'AMSPEND'</li><li>'PSSPEND'</li><li>'CCSPEND'</li><li>'AXSPEND'</li><li>'TMONSPEND'</li><li>'OMONSPEND'</li><li>'SMONSPEND'</li><li>'PREVPD'</li><li>'GMP'</li><li>'PROMOS'</li><li>'DAYS'</li><li>'FREDAYS'</li><li>'MARKDOWN'</li><li>'CLASSES'</li><li>'COUPONS'</li><li>'STYLES'</li><li>'STORES'</li><li>'STORELOY'</li><li>'VALPHON'</li><li>'WEB'</li><li>'MAILED'</li><li>'RESPONDED'</li><li>'RESPONSERATE'</li><li>'HI'</li><li>'LTFREDAY'</li><li>'CLUSTYPE'</li><li>'PERCRET'</li><li>'RESP'</li></ol>\n"
      ],
      "text/latex": [
       "\\begin{enumerate*}\n",
       "\\item 'REC'\n",
       "\\item 'FRE'\n",
       "\\item 'MON'\n",
       "\\item 'CC\\_CARD'\n",
       "\\item 'AVRG'\n",
       "\\item 'PC\\_CALC20'\n",
       "\\item 'PSWEATERS'\n",
       "\\item 'PKNIT\\_TOPS'\n",
       "\\item 'PKNIT\\_DRES'\n",
       "\\item 'PBLOUSES'\n",
       "\\item 'PJACKETS'\n",
       "\\item 'PCAR\\_PNTS'\n",
       "\\item 'PCAS\\_PNTS'\n",
       "\\item 'PSHIRTS'\n",
       "\\item 'PDRESSES'\n",
       "\\item 'PSUITS'\n",
       "\\item 'POUTERWEAR'\n",
       "\\item 'PJEWELRY'\n",
       "\\item 'PFASHION'\n",
       "\\item 'PLEGWEAR'\n",
       "\\item 'PCOLLSPND'\n",
       "\\item 'AMSPEND'\n",
       "\\item 'PSSPEND'\n",
       "\\item 'CCSPEND'\n",
       "\\item 'AXSPEND'\n",
       "\\item 'TMONSPEND'\n",
       "\\item 'OMONSPEND'\n",
       "\\item 'SMONSPEND'\n",
       "\\item 'PREVPD'\n",
       "\\item 'GMP'\n",
       "\\item 'PROMOS'\n",
       "\\item 'DAYS'\n",
       "\\item 'FREDAYS'\n",
       "\\item 'MARKDOWN'\n",
       "\\item 'CLASSES'\n",
       "\\item 'COUPONS'\n",
       "\\item 'STYLES'\n",
       "\\item 'STORES'\n",
       "\\item 'STORELOY'\n",
       "\\item 'VALPHON'\n",
       "\\item 'WEB'\n",
       "\\item 'MAILED'\n",
       "\\item 'RESPONDED'\n",
       "\\item 'RESPONSERATE'\n",
       "\\item 'HI'\n",
       "\\item 'LTFREDAY'\n",
       "\\item 'CLUSTYPE'\n",
       "\\item 'PERCRET'\n",
       "\\item 'RESP'\n",
       "\\end{enumerate*}\n"
      ],
      "text/markdown": [
       "1. 'REC'\n",
       "2. 'FRE'\n",
       "3. 'MON'\n",
       "4. 'CC_CARD'\n",
       "5. 'AVRG'\n",
       "6. 'PC_CALC20'\n",
       "7. 'PSWEATERS'\n",
       "8. 'PKNIT_TOPS'\n",
       "9. 'PKNIT_DRES'\n",
       "10. 'PBLOUSES'\n",
       "11. 'PJACKETS'\n",
       "12. 'PCAR_PNTS'\n",
       "13. 'PCAS_PNTS'\n",
       "14. 'PSHIRTS'\n",
       "15. 'PDRESSES'\n",
       "16. 'PSUITS'\n",
       "17. 'POUTERWEAR'\n",
       "18. 'PJEWELRY'\n",
       "19. 'PFASHION'\n",
       "20. 'PLEGWEAR'\n",
       "21. 'PCOLLSPND'\n",
       "22. 'AMSPEND'\n",
       "23. 'PSSPEND'\n",
       "24. 'CCSPEND'\n",
       "25. 'AXSPEND'\n",
       "26. 'TMONSPEND'\n",
       "27. 'OMONSPEND'\n",
       "28. 'SMONSPEND'\n",
       "29. 'PREVPD'\n",
       "30. 'GMP'\n",
       "31. 'PROMOS'\n",
       "32. 'DAYS'\n",
       "33. 'FREDAYS'\n",
       "34. 'MARKDOWN'\n",
       "35. 'CLASSES'\n",
       "36. 'COUPONS'\n",
       "37. 'STYLES'\n",
       "38. 'STORES'\n",
       "39. 'STORELOY'\n",
       "40. 'VALPHON'\n",
       "41. 'WEB'\n",
       "42. 'MAILED'\n",
       "43. 'RESPONDED'\n",
       "44. 'RESPONSERATE'\n",
       "45. 'HI'\n",
       "46. 'LTFREDAY'\n",
       "47. 'CLUSTYPE'\n",
       "48. 'PERCRET'\n",
       "49. 'RESP'\n",
       "\n",
       "\n"
      ],
      "text/plain": [
       " [1] \"REC\"          \"FRE\"          \"MON\"          \"CC_CARD\"      \"AVRG\"        \n",
       " [6] \"PC_CALC20\"    \"PSWEATERS\"    \"PKNIT_TOPS\"   \"PKNIT_DRES\"   \"PBLOUSES\"    \n",
       "[11] \"PJACKETS\"     \"PCAR_PNTS\"    \"PCAS_PNTS\"    \"PSHIRTS\"      \"PDRESSES\"    \n",
       "[16] \"PSUITS\"       \"POUTERWEAR\"   \"PJEWELRY\"     \"PFASHION\"     \"PLEGWEAR\"    \n",
       "[21] \"PCOLLSPND\"    \"AMSPEND\"      \"PSSPEND\"      \"CCSPEND\"      \"AXSPEND\"     \n",
       "[26] \"TMONSPEND\"    \"OMONSPEND\"    \"SMONSPEND\"    \"PREVPD\"       \"GMP\"         \n",
       "[31] \"PROMOS\"       \"DAYS\"         \"FREDAYS\"      \"MARKDOWN\"     \"CLASSES\"     \n",
       "[36] \"COUPONS\"      \"STYLES\"       \"STORES\"       \"STORELOY\"     \"VALPHON\"     \n",
       "[41] \"WEB\"          \"MAILED\"       \"RESPONDED\"    \"RESPONSERATE\" \"HI\"          \n",
       "[46] \"LTFREDAY\"     \"CLUSTYPE\"     \"PERCRET\"      \"RESP\"        "
      ]
     },
     "metadata": {},
     "output_type": "display_data"
    }
   ],
   "source": [
    "# Solution:\n",
    "tr = training_data[,-1]\n",
    "tr = tr[,-1]\n",
    "names(tr)\n",
    "\n",
    "val = validation_data[,-1]\n",
    "val = val[,-1]\n",
    "names(val)"
   ]
  },
  {
   "cell_type": "markdown",
   "id": "6b474ab5-b272-4f81-a771-6f55d090bf97",
   "metadata": {},
   "source": [
    "**(h) Skewness<br>\n",
    "Many of the numeric variables are right skewed. Unfortunately many\n",
    "standard data mining methods require that the variables are symmet-\n",
    "ric. But often is it possible to transform the original data to obtain\n",
    "symmetry.<br>\n",
    "Construct a histogram for the variable describing product uniformity,\n",
    "called HI. This variable takes large values for customers purchasing\n",
    "only from a few different classes of clothes (e.g. blouses, pants, ...)\n",
    "and small values for customers purchasing from many different cloth\n",
    "classes. This variable is clearly right skewed.<br>\n",
    "Try some different transformations (e.g. t<sup>-2</sup>, t<sup>−1</sup>, t<sup>−1/2</sup>, ln(t), √t, t<sup>1</sup>, t<sup>2</sup>)\n",
    "and use histograms to see if you get symmetry. Choose one of the\n",
    "transformations, apply this to HI in both the training and validation\n",
    "data and use these datasets in the following.**"
   ]
  },
  {
   "cell_type": "code",
   "execution_count": 26,
   "id": "3331ca35-c6ea-45c8-9c29-4b89167b4342",
   "metadata": {},
   "outputs": [
    {
     "name": "stderr",
     "output_type": "stream",
     "text": [
      "The following objects are masked from training_data:\n",
      "\n",
      "    AMSPEND, AVRG, AXSPEND, CC_CARD, CCSPEND, CLASSES, CLUSTYPE,\n",
      "    COUPONS, DAYS, FRE, FREDAYS, GMP, HI, LTFREDAY, MAILED, MARKDOWN,\n",
      "    MON, OMONSPEND, PBLOUSES, PC_CALC20, PCAR_PNTS, PCAS_PNTS,\n",
      "    PCOLLSPND, PDRESSES, PERCRET, PFASHION, PJACKETS, PJEWELRY,\n",
      "    PKNIT_DRES, PKNIT_TOPS, PLEGWEAR, POUTERWEAR, PREVPD, PROMOS,\n",
      "    PSHIRTS, PSSPEND, PSUITS, PSWEATERS, REC, RESP, RESPONDED,\n",
      "    RESPONSERATE, SMONSPEND, STORELOY, STORES, STYLES, TMONSPEND,\n",
      "    VALPHON, WEB\n",
      "\n",
      "\n"
     ]
    },
    {
     "data": {
      "text/html": [
       "<style>\n",
       ".list-inline {list-style: none; margin:0; padding: 0}\n",
       ".list-inline>li {display: inline-block}\n",
       ".list-inline>li:not(:last-child)::after {content: \"\\00b7\"; padding: 0 .5ex}\n",
       "</style>\n",
       "<ol class=list-inline><li>'REC'</li><li>'FRE'</li><li>'MON'</li><li>'CC_CARD'</li><li>'AVRG'</li><li>'PC_CALC20'</li><li>'PSWEATERS'</li><li>'PKNIT_TOPS'</li><li>'PKNIT_DRES'</li><li>'PBLOUSES'</li><li>'PJACKETS'</li><li>'PCAR_PNTS'</li><li>'PCAS_PNTS'</li><li>'PSHIRTS'</li><li>'PDRESSES'</li><li>'PSUITS'</li><li>'POUTERWEAR'</li><li>'PJEWELRY'</li><li>'PFASHION'</li><li>'PLEGWEAR'</li><li>'PCOLLSPND'</li><li>'AMSPEND'</li><li>'PSSPEND'</li><li>'CCSPEND'</li><li>'AXSPEND'</li><li>'TMONSPEND'</li><li>'OMONSPEND'</li><li>'SMONSPEND'</li><li>'PREVPD'</li><li>'GMP'</li><li>'PROMOS'</li><li>'DAYS'</li><li>'FREDAYS'</li><li>'MARKDOWN'</li><li>'CLASSES'</li><li>'COUPONS'</li><li>'STYLES'</li><li>'STORES'</li><li>'STORELOY'</li><li>'VALPHON'</li><li>'WEB'</li><li>'MAILED'</li><li>'RESPONDED'</li><li>'RESPONSERATE'</li><li>'LTFREDAY'</li><li>'CLUSTYPE'</li><li>'PERCRET'</li><li>'RESP'</li><li>'hi_trans'</li></ol>\n"
      ],
      "text/latex": [
       "\\begin{enumerate*}\n",
       "\\item 'REC'\n",
       "\\item 'FRE'\n",
       "\\item 'MON'\n",
       "\\item 'CC\\_CARD'\n",
       "\\item 'AVRG'\n",
       "\\item 'PC\\_CALC20'\n",
       "\\item 'PSWEATERS'\n",
       "\\item 'PKNIT\\_TOPS'\n",
       "\\item 'PKNIT\\_DRES'\n",
       "\\item 'PBLOUSES'\n",
       "\\item 'PJACKETS'\n",
       "\\item 'PCAR\\_PNTS'\n",
       "\\item 'PCAS\\_PNTS'\n",
       "\\item 'PSHIRTS'\n",
       "\\item 'PDRESSES'\n",
       "\\item 'PSUITS'\n",
       "\\item 'POUTERWEAR'\n",
       "\\item 'PJEWELRY'\n",
       "\\item 'PFASHION'\n",
       "\\item 'PLEGWEAR'\n",
       "\\item 'PCOLLSPND'\n",
       "\\item 'AMSPEND'\n",
       "\\item 'PSSPEND'\n",
       "\\item 'CCSPEND'\n",
       "\\item 'AXSPEND'\n",
       "\\item 'TMONSPEND'\n",
       "\\item 'OMONSPEND'\n",
       "\\item 'SMONSPEND'\n",
       "\\item 'PREVPD'\n",
       "\\item 'GMP'\n",
       "\\item 'PROMOS'\n",
       "\\item 'DAYS'\n",
       "\\item 'FREDAYS'\n",
       "\\item 'MARKDOWN'\n",
       "\\item 'CLASSES'\n",
       "\\item 'COUPONS'\n",
       "\\item 'STYLES'\n",
       "\\item 'STORES'\n",
       "\\item 'STORELOY'\n",
       "\\item 'VALPHON'\n",
       "\\item 'WEB'\n",
       "\\item 'MAILED'\n",
       "\\item 'RESPONDED'\n",
       "\\item 'RESPONSERATE'\n",
       "\\item 'LTFREDAY'\n",
       "\\item 'CLUSTYPE'\n",
       "\\item 'PERCRET'\n",
       "\\item 'RESP'\n",
       "\\item 'hi\\_trans'\n",
       "\\end{enumerate*}\n"
      ],
      "text/markdown": [
       "1. 'REC'\n",
       "2. 'FRE'\n",
       "3. 'MON'\n",
       "4. 'CC_CARD'\n",
       "5. 'AVRG'\n",
       "6. 'PC_CALC20'\n",
       "7. 'PSWEATERS'\n",
       "8. 'PKNIT_TOPS'\n",
       "9. 'PKNIT_DRES'\n",
       "10. 'PBLOUSES'\n",
       "11. 'PJACKETS'\n",
       "12. 'PCAR_PNTS'\n",
       "13. 'PCAS_PNTS'\n",
       "14. 'PSHIRTS'\n",
       "15. 'PDRESSES'\n",
       "16. 'PSUITS'\n",
       "17. 'POUTERWEAR'\n",
       "18. 'PJEWELRY'\n",
       "19. 'PFASHION'\n",
       "20. 'PLEGWEAR'\n",
       "21. 'PCOLLSPND'\n",
       "22. 'AMSPEND'\n",
       "23. 'PSSPEND'\n",
       "24. 'CCSPEND'\n",
       "25. 'AXSPEND'\n",
       "26. 'TMONSPEND'\n",
       "27. 'OMONSPEND'\n",
       "28. 'SMONSPEND'\n",
       "29. 'PREVPD'\n",
       "30. 'GMP'\n",
       "31. 'PROMOS'\n",
       "32. 'DAYS'\n",
       "33. 'FREDAYS'\n",
       "34. 'MARKDOWN'\n",
       "35. 'CLASSES'\n",
       "36. 'COUPONS'\n",
       "37. 'STYLES'\n",
       "38. 'STORES'\n",
       "39. 'STORELOY'\n",
       "40. 'VALPHON'\n",
       "41. 'WEB'\n",
       "42. 'MAILED'\n",
       "43. 'RESPONDED'\n",
       "44. 'RESPONSERATE'\n",
       "45. 'LTFREDAY'\n",
       "46. 'CLUSTYPE'\n",
       "47. 'PERCRET'\n",
       "48. 'RESP'\n",
       "49. 'hi_trans'\n",
       "\n",
       "\n"
      ],
      "text/plain": [
       " [1] \"REC\"          \"FRE\"          \"MON\"          \"CC_CARD\"      \"AVRG\"        \n",
       " [6] \"PC_CALC20\"    \"PSWEATERS\"    \"PKNIT_TOPS\"   \"PKNIT_DRES\"   \"PBLOUSES\"    \n",
       "[11] \"PJACKETS\"     \"PCAR_PNTS\"    \"PCAS_PNTS\"    \"PSHIRTS\"      \"PDRESSES\"    \n",
       "[16] \"PSUITS\"       \"POUTERWEAR\"   \"PJEWELRY\"     \"PFASHION\"     \"PLEGWEAR\"    \n",
       "[21] \"PCOLLSPND\"    \"AMSPEND\"      \"PSSPEND\"      \"CCSPEND\"      \"AXSPEND\"     \n",
       "[26] \"TMONSPEND\"    \"OMONSPEND\"    \"SMONSPEND\"    \"PREVPD\"       \"GMP\"         \n",
       "[31] \"PROMOS\"       \"DAYS\"         \"FREDAYS\"      \"MARKDOWN\"     \"CLASSES\"     \n",
       "[36] \"COUPONS\"      \"STYLES\"       \"STORES\"       \"STORELOY\"     \"VALPHON\"     \n",
       "[41] \"WEB\"          \"MAILED\"       \"RESPONDED\"    \"RESPONSERATE\" \"LTFREDAY\"    \n",
       "[46] \"CLUSTYPE\"     \"PERCRET\"      \"RESP\"         \"hi_trans\"    "
      ]
     },
     "metadata": {},
     "output_type": "display_data"
    },
    {
     "name": "stderr",
     "output_type": "stream",
     "text": [
      "The following objects are masked from tr:\n",
      "\n",
      "    AMSPEND, AVRG, AXSPEND, CC_CARD, CCSPEND, CLASSES, CLUSTYPE,\n",
      "    COUPONS, DAYS, FRE, FREDAYS, GMP, HI, LTFREDAY, MAILED, MARKDOWN,\n",
      "    MON, OMONSPEND, PBLOUSES, PC_CALC20, PCAR_PNTS, PCAS_PNTS,\n",
      "    PCOLLSPND, PDRESSES, PERCRET, PFASHION, PJACKETS, PJEWELRY,\n",
      "    PKNIT_DRES, PKNIT_TOPS, PLEGWEAR, POUTERWEAR, PREVPD, PROMOS,\n",
      "    PSHIRTS, PSSPEND, PSUITS, PSWEATERS, REC, RESP, RESPONDED,\n",
      "    RESPONSERATE, SMONSPEND, STORELOY, STORES, STYLES, TMONSPEND,\n",
      "    VALPHON, WEB\n",
      "\n",
      "\n",
      "The following objects are masked from training_data:\n",
      "\n",
      "    AMSPEND, AVRG, AXSPEND, CC_CARD, CCSPEND, CLASSES, CLUSTYPE,\n",
      "    COUPONS, DAYS, FRE, FREDAYS, GMP, HI, LTFREDAY, MAILED, MARKDOWN,\n",
      "    MON, OMONSPEND, PBLOUSES, PC_CALC20, PCAR_PNTS, PCAS_PNTS,\n",
      "    PCOLLSPND, PDRESSES, PERCRET, PFASHION, PJACKETS, PJEWELRY,\n",
      "    PKNIT_DRES, PKNIT_TOPS, PLEGWEAR, POUTERWEAR, PREVPD, PROMOS,\n",
      "    PSHIRTS, PSSPEND, PSUITS, PSWEATERS, REC, RESP, RESPONDED,\n",
      "    RESPONSERATE, SMONSPEND, STORELOY, STORES, STYLES, TMONSPEND,\n",
      "    VALPHON, WEB\n",
      "\n",
      "\n"
     ]
    }
   ],
   "source": [
    "# Solution:\n",
    "attach(tr)\n",
    "hi_trans=log(HI)\n",
    "tr=tr[,-45]\n",
    "tr=data.frame(tr,hi_trans)\n",
    "names(tr)\n",
    "\n",
    "attach(val)\n",
    "hi_trans=log(HI)\n",
    "val=val[,-45]\n",
    "val=data.frame(val,hi_trans)"
   ]
  },
  {
   "cell_type": "markdown",
   "id": "c5e270e5-02af-49b2-9913-d1951b1dab1c",
   "metadata": {},
   "source": [
    "**(i) Derivation of new variables<br>\n",
    "Usually the variables ”delivered” to us in the database are not the\n",
    "most appropriate variables for the analysis. So, often we have to\n",
    "derive new variables, based on some of the original ones. In our\n",
    "case study, let’s look at the following three variables: Amount spent\n",
    "by customer in the last month0 (OMONSPEND), Amount spent by\n",
    "customer in the last three months (TMONSPEND), Amount spent\n",
    "by customer in the six last months (SMONSPEND).<br>\n",
    "Would it be good to use all these three variables as input variables at\n",
    "the same time? Why/why not? Which variables would you derive?\n",
    "Do this! (Both for the training data and for the validation data.)**"
   ]
  },
  {
   "cell_type": "code",
   "execution_count": 27,
   "id": "ad69e530-ede3-40cf-b0be-0b55be1866f9",
   "metadata": {},
   "outputs": [
    {
     "name": "stderr",
     "output_type": "stream",
     "text": [
      "The following object is masked _by_ .GlobalEnv:\n",
      "\n",
      "    hi_trans\n",
      "\n",
      "\n",
      "The following objects are masked from val:\n",
      "\n",
      "    AMSPEND, AVRG, AXSPEND, CC_CARD, CCSPEND, CLASSES, CLUSTYPE,\n",
      "    COUPONS, DAYS, FRE, FREDAYS, GMP, LTFREDAY, MAILED, MARKDOWN, MON,\n",
      "    OMONSPEND, PBLOUSES, PC_CALC20, PCAR_PNTS, PCAS_PNTS, PCOLLSPND,\n",
      "    PDRESSES, PERCRET, PFASHION, PJACKETS, PJEWELRY, PKNIT_DRES,\n",
      "    PKNIT_TOPS, PLEGWEAR, POUTERWEAR, PREVPD, PROMOS, PSHIRTS, PSSPEND,\n",
      "    PSUITS, PSWEATERS, REC, RESP, RESPONDED, RESPONSERATE, SMONSPEND,\n",
      "    STORELOY, STORES, STYLES, TMONSPEND, VALPHON, WEB\n",
      "\n",
      "\n",
      "The following objects are masked from tr (pos = 4):\n",
      "\n",
      "    AMSPEND, AVRG, AXSPEND, CC_CARD, CCSPEND, CLASSES, CLUSTYPE,\n",
      "    COUPONS, DAYS, FRE, FREDAYS, GMP, LTFREDAY, MAILED, MARKDOWN, MON,\n",
      "    OMONSPEND, PBLOUSES, PC_CALC20, PCAR_PNTS, PCAS_PNTS, PCOLLSPND,\n",
      "    PDRESSES, PERCRET, PFASHION, PJACKETS, PJEWELRY, PKNIT_DRES,\n",
      "    PKNIT_TOPS, PLEGWEAR, POUTERWEAR, PREVPD, PROMOS, PSHIRTS, PSSPEND,\n",
      "    PSUITS, PSWEATERS, REC, RESP, RESPONDED, RESPONSERATE, SMONSPEND,\n",
      "    STORELOY, STORES, STYLES, TMONSPEND, VALPHON, WEB\n",
      "\n",
      "\n",
      "The following objects are masked from training_data:\n",
      "\n",
      "    AMSPEND, AVRG, AXSPEND, CC_CARD, CCSPEND, CLASSES, CLUSTYPE,\n",
      "    COUPONS, DAYS, FRE, FREDAYS, GMP, LTFREDAY, MAILED, MARKDOWN, MON,\n",
      "    OMONSPEND, PBLOUSES, PC_CALC20, PCAR_PNTS, PCAS_PNTS, PCOLLSPND,\n",
      "    PDRESSES, PERCRET, PFASHION, PJACKETS, PJEWELRY, PKNIT_DRES,\n",
      "    PKNIT_TOPS, PLEGWEAR, POUTERWEAR, PREVPD, PROMOS, PSHIRTS, PSSPEND,\n",
      "    PSUITS, PSWEATERS, REC, RESP, RESPONDED, RESPONSERATE, SMONSPEND,\n",
      "    STORELOY, STORES, STYLES, TMONSPEND, VALPHON, WEB\n",
      "\n",
      "\n"
     ]
    },
    {
     "data": {
      "text/html": [
       "<style>\n",
       ".list-inline {list-style: none; margin:0; padding: 0}\n",
       ".list-inline>li {display: inline-block}\n",
       ".list-inline>li:not(:last-child)::after {content: \"\\00b7\"; padding: 0 .5ex}\n",
       "</style>\n",
       "<ol class=list-inline><li>'REC'</li><li>'FRE'</li><li>'MON'</li><li>'CC_CARD'</li><li>'AVRG'</li><li>'PC_CALC20'</li><li>'PSWEATERS'</li><li>'PKNIT_TOPS'</li><li>'PKNIT_DRES'</li><li>'PBLOUSES'</li><li>'PJACKETS'</li><li>'PCAR_PNTS'</li><li>'PCAS_PNTS'</li><li>'PSHIRTS'</li><li>'PDRESSES'</li><li>'PSUITS'</li><li>'POUTERWEAR'</li><li>'PJEWELRY'</li><li>'PFASHION'</li><li>'PLEGWEAR'</li><li>'PCOLLSPND'</li><li>'AMSPEND'</li><li>'PSSPEND'</li><li>'CCSPEND'</li><li>'AXSPEND'</li><li>'TMONSPEND'</li><li>'OMONSPEND'</li><li>'SMONSPEND'</li><li>'PREVPD'</li><li>'GMP'</li><li>'PROMOS'</li><li>'DAYS'</li><li>'FREDAYS'</li><li>'MARKDOWN'</li><li>'CLASSES'</li><li>'COUPONS'</li><li>'STYLES'</li><li>'STORES'</li><li>'STORELOY'</li><li>'VALPHON'</li><li>'WEB'</li><li>'MAILED'</li><li>'RESPONDED'</li><li>'RESPONSERATE'</li><li>'LTFREDAY'</li><li>'CLUSTYPE'</li><li>'PERCRET'</li><li>'RESP'</li><li>'hi_trans'</li></ol>\n"
      ],
      "text/latex": [
       "\\begin{enumerate*}\n",
       "\\item 'REC'\n",
       "\\item 'FRE'\n",
       "\\item 'MON'\n",
       "\\item 'CC\\_CARD'\n",
       "\\item 'AVRG'\n",
       "\\item 'PC\\_CALC20'\n",
       "\\item 'PSWEATERS'\n",
       "\\item 'PKNIT\\_TOPS'\n",
       "\\item 'PKNIT\\_DRES'\n",
       "\\item 'PBLOUSES'\n",
       "\\item 'PJACKETS'\n",
       "\\item 'PCAR\\_PNTS'\n",
       "\\item 'PCAS\\_PNTS'\n",
       "\\item 'PSHIRTS'\n",
       "\\item 'PDRESSES'\n",
       "\\item 'PSUITS'\n",
       "\\item 'POUTERWEAR'\n",
       "\\item 'PJEWELRY'\n",
       "\\item 'PFASHION'\n",
       "\\item 'PLEGWEAR'\n",
       "\\item 'PCOLLSPND'\n",
       "\\item 'AMSPEND'\n",
       "\\item 'PSSPEND'\n",
       "\\item 'CCSPEND'\n",
       "\\item 'AXSPEND'\n",
       "\\item 'TMONSPEND'\n",
       "\\item 'OMONSPEND'\n",
       "\\item 'SMONSPEND'\n",
       "\\item 'PREVPD'\n",
       "\\item 'GMP'\n",
       "\\item 'PROMOS'\n",
       "\\item 'DAYS'\n",
       "\\item 'FREDAYS'\n",
       "\\item 'MARKDOWN'\n",
       "\\item 'CLASSES'\n",
       "\\item 'COUPONS'\n",
       "\\item 'STYLES'\n",
       "\\item 'STORES'\n",
       "\\item 'STORELOY'\n",
       "\\item 'VALPHON'\n",
       "\\item 'WEB'\n",
       "\\item 'MAILED'\n",
       "\\item 'RESPONDED'\n",
       "\\item 'RESPONSERATE'\n",
       "\\item 'LTFREDAY'\n",
       "\\item 'CLUSTYPE'\n",
       "\\item 'PERCRET'\n",
       "\\item 'RESP'\n",
       "\\item 'hi\\_trans'\n",
       "\\end{enumerate*}\n"
      ],
      "text/markdown": [
       "1. 'REC'\n",
       "2. 'FRE'\n",
       "3. 'MON'\n",
       "4. 'CC_CARD'\n",
       "5. 'AVRG'\n",
       "6. 'PC_CALC20'\n",
       "7. 'PSWEATERS'\n",
       "8. 'PKNIT_TOPS'\n",
       "9. 'PKNIT_DRES'\n",
       "10. 'PBLOUSES'\n",
       "11. 'PJACKETS'\n",
       "12. 'PCAR_PNTS'\n",
       "13. 'PCAS_PNTS'\n",
       "14. 'PSHIRTS'\n",
       "15. 'PDRESSES'\n",
       "16. 'PSUITS'\n",
       "17. 'POUTERWEAR'\n",
       "18. 'PJEWELRY'\n",
       "19. 'PFASHION'\n",
       "20. 'PLEGWEAR'\n",
       "21. 'PCOLLSPND'\n",
       "22. 'AMSPEND'\n",
       "23. 'PSSPEND'\n",
       "24. 'CCSPEND'\n",
       "25. 'AXSPEND'\n",
       "26. 'TMONSPEND'\n",
       "27. 'OMONSPEND'\n",
       "28. 'SMONSPEND'\n",
       "29. 'PREVPD'\n",
       "30. 'GMP'\n",
       "31. 'PROMOS'\n",
       "32. 'DAYS'\n",
       "33. 'FREDAYS'\n",
       "34. 'MARKDOWN'\n",
       "35. 'CLASSES'\n",
       "36. 'COUPONS'\n",
       "37. 'STYLES'\n",
       "38. 'STORES'\n",
       "39. 'STORELOY'\n",
       "40. 'VALPHON'\n",
       "41. 'WEB'\n",
       "42. 'MAILED'\n",
       "43. 'RESPONDED'\n",
       "44. 'RESPONSERATE'\n",
       "45. 'LTFREDAY'\n",
       "46. 'CLUSTYPE'\n",
       "47. 'PERCRET'\n",
       "48. 'RESP'\n",
       "49. 'hi_trans'\n",
       "\n",
       "\n"
      ],
      "text/plain": [
       " [1] \"REC\"          \"FRE\"          \"MON\"          \"CC_CARD\"      \"AVRG\"        \n",
       " [6] \"PC_CALC20\"    \"PSWEATERS\"    \"PKNIT_TOPS\"   \"PKNIT_DRES\"   \"PBLOUSES\"    \n",
       "[11] \"PJACKETS\"     \"PCAR_PNTS\"    \"PCAS_PNTS\"    \"PSHIRTS\"      \"PDRESSES\"    \n",
       "[16] \"PSUITS\"       \"POUTERWEAR\"   \"PJEWELRY\"     \"PFASHION\"     \"PLEGWEAR\"    \n",
       "[21] \"PCOLLSPND\"    \"AMSPEND\"      \"PSSPEND\"      \"CCSPEND\"      \"AXSPEND\"     \n",
       "[26] \"TMONSPEND\"    \"OMONSPEND\"    \"SMONSPEND\"    \"PREVPD\"       \"GMP\"         \n",
       "[31] \"PROMOS\"       \"DAYS\"         \"FREDAYS\"      \"MARKDOWN\"     \"CLASSES\"     \n",
       "[36] \"COUPONS\"      \"STYLES\"       \"STORES\"       \"STORELOY\"     \"VALPHON\"     \n",
       "[41] \"WEB\"          \"MAILED\"       \"RESPONDED\"    \"RESPONSERATE\" \"LTFREDAY\"    \n",
       "[46] \"CLUSTYPE\"     \"PERCRET\"      \"RESP\"         \"hi_trans\"    "
      ]
     },
     "metadata": {},
     "output_type": "display_data"
    },
    {
     "data": {
      "text/html": [
       "<style>\n",
       ".list-inline {list-style: none; margin:0; padding: 0}\n",
       ".list-inline>li {display: inline-block}\n",
       ".list-inline>li:not(:last-child)::after {content: \"\\00b7\"; padding: 0 .5ex}\n",
       "</style>\n",
       "<ol class=list-inline><li>'REC'</li><li>'FRE'</li><li>'MON'</li><li>'CC_CARD'</li><li>'AVRG'</li><li>'PC_CALC20'</li><li>'PSWEATERS'</li><li>'PKNIT_TOPS'</li><li>'PKNIT_DRES'</li><li>'PBLOUSES'</li><li>'PJACKETS'</li><li>'PCAR_PNTS'</li><li>'PCAS_PNTS'</li><li>'PSHIRTS'</li><li>'PDRESSES'</li><li>'PSUITS'</li><li>'POUTERWEAR'</li><li>'PJEWELRY'</li><li>'PFASHION'</li><li>'PLEGWEAR'</li><li>'PCOLLSPND'</li><li>'AMSPEND'</li><li>'PSSPEND'</li><li>'CCSPEND'</li><li>'AXSPEND'</li><li>'OMONSPEND'</li><li>'SMONSPEND'</li><li>'PREVPD'</li><li>'GMP'</li><li>'PROMOS'</li><li>'DAYS'</li><li>'FREDAYS'</li><li>'MARKDOWN'</li><li>'CLASSES'</li><li>'COUPONS'</li><li>'STYLES'</li><li>'STORES'</li><li>'STORELOY'</li><li>'VALPHON'</li><li>'WEB'</li><li>'MAILED'</li><li>'RESPONDED'</li><li>'RESPONSERATE'</li><li>'LTFREDAY'</li><li>'CLUSTYPE'</li><li>'PERCRET'</li><li>'RESP'</li><li>'hi_trans'</li></ol>\n"
      ],
      "text/latex": [
       "\\begin{enumerate*}\n",
       "\\item 'REC'\n",
       "\\item 'FRE'\n",
       "\\item 'MON'\n",
       "\\item 'CC\\_CARD'\n",
       "\\item 'AVRG'\n",
       "\\item 'PC\\_CALC20'\n",
       "\\item 'PSWEATERS'\n",
       "\\item 'PKNIT\\_TOPS'\n",
       "\\item 'PKNIT\\_DRES'\n",
       "\\item 'PBLOUSES'\n",
       "\\item 'PJACKETS'\n",
       "\\item 'PCAR\\_PNTS'\n",
       "\\item 'PCAS\\_PNTS'\n",
       "\\item 'PSHIRTS'\n",
       "\\item 'PDRESSES'\n",
       "\\item 'PSUITS'\n",
       "\\item 'POUTERWEAR'\n",
       "\\item 'PJEWELRY'\n",
       "\\item 'PFASHION'\n",
       "\\item 'PLEGWEAR'\n",
       "\\item 'PCOLLSPND'\n",
       "\\item 'AMSPEND'\n",
       "\\item 'PSSPEND'\n",
       "\\item 'CCSPEND'\n",
       "\\item 'AXSPEND'\n",
       "\\item 'OMONSPEND'\n",
       "\\item 'SMONSPEND'\n",
       "\\item 'PREVPD'\n",
       "\\item 'GMP'\n",
       "\\item 'PROMOS'\n",
       "\\item 'DAYS'\n",
       "\\item 'FREDAYS'\n",
       "\\item 'MARKDOWN'\n",
       "\\item 'CLASSES'\n",
       "\\item 'COUPONS'\n",
       "\\item 'STYLES'\n",
       "\\item 'STORES'\n",
       "\\item 'STORELOY'\n",
       "\\item 'VALPHON'\n",
       "\\item 'WEB'\n",
       "\\item 'MAILED'\n",
       "\\item 'RESPONDED'\n",
       "\\item 'RESPONSERATE'\n",
       "\\item 'LTFREDAY'\n",
       "\\item 'CLUSTYPE'\n",
       "\\item 'PERCRET'\n",
       "\\item 'RESP'\n",
       "\\item 'hi\\_trans'\n",
       "\\end{enumerate*}\n"
      ],
      "text/markdown": [
       "1. 'REC'\n",
       "2. 'FRE'\n",
       "3. 'MON'\n",
       "4. 'CC_CARD'\n",
       "5. 'AVRG'\n",
       "6. 'PC_CALC20'\n",
       "7. 'PSWEATERS'\n",
       "8. 'PKNIT_TOPS'\n",
       "9. 'PKNIT_DRES'\n",
       "10. 'PBLOUSES'\n",
       "11. 'PJACKETS'\n",
       "12. 'PCAR_PNTS'\n",
       "13. 'PCAS_PNTS'\n",
       "14. 'PSHIRTS'\n",
       "15. 'PDRESSES'\n",
       "16. 'PSUITS'\n",
       "17. 'POUTERWEAR'\n",
       "18. 'PJEWELRY'\n",
       "19. 'PFASHION'\n",
       "20. 'PLEGWEAR'\n",
       "21. 'PCOLLSPND'\n",
       "22. 'AMSPEND'\n",
       "23. 'PSSPEND'\n",
       "24. 'CCSPEND'\n",
       "25. 'AXSPEND'\n",
       "26. 'OMONSPEND'\n",
       "27. 'SMONSPEND'\n",
       "28. 'PREVPD'\n",
       "29. 'GMP'\n",
       "30. 'PROMOS'\n",
       "31. 'DAYS'\n",
       "32. 'FREDAYS'\n",
       "33. 'MARKDOWN'\n",
       "34. 'CLASSES'\n",
       "35. 'COUPONS'\n",
       "36. 'STYLES'\n",
       "37. 'STORES'\n",
       "38. 'STORELOY'\n",
       "39. 'VALPHON'\n",
       "40. 'WEB'\n",
       "41. 'MAILED'\n",
       "42. 'RESPONDED'\n",
       "43. 'RESPONSERATE'\n",
       "44. 'LTFREDAY'\n",
       "45. 'CLUSTYPE'\n",
       "46. 'PERCRET'\n",
       "47. 'RESP'\n",
       "48. 'hi_trans'\n",
       "\n",
       "\n"
      ],
      "text/plain": [
       " [1] \"REC\"          \"FRE\"          \"MON\"          \"CC_CARD\"      \"AVRG\"        \n",
       " [6] \"PC_CALC20\"    \"PSWEATERS\"    \"PKNIT_TOPS\"   \"PKNIT_DRES\"   \"PBLOUSES\"    \n",
       "[11] \"PJACKETS\"     \"PCAR_PNTS\"    \"PCAS_PNTS\"    \"PSHIRTS\"      \"PDRESSES\"    \n",
       "[16] \"PSUITS\"       \"POUTERWEAR\"   \"PJEWELRY\"     \"PFASHION\"     \"PLEGWEAR\"    \n",
       "[21] \"PCOLLSPND\"    \"AMSPEND\"      \"PSSPEND\"      \"CCSPEND\"      \"AXSPEND\"     \n",
       "[26] \"OMONSPEND\"    \"SMONSPEND\"    \"PREVPD\"       \"GMP\"          \"PROMOS\"      \n",
       "[31] \"DAYS\"         \"FREDAYS\"      \"MARKDOWN\"     \"CLASSES\"      \"COUPONS\"     \n",
       "[36] \"STYLES\"       \"STORES\"       \"STORELOY\"     \"VALPHON\"      \"WEB\"         \n",
       "[41] \"MAILED\"       \"RESPONDED\"    \"RESPONSERATE\" \"LTFREDAY\"     \"CLUSTYPE\"    \n",
       "[46] \"PERCRET\"      \"RESP\"         \"hi_trans\"    "
      ]
     },
     "metadata": {},
     "output_type": "display_data"
    },
    {
     "data": {
      "text/html": [
       "<style>\n",
       ".list-inline {list-style: none; margin:0; padding: 0}\n",
       ".list-inline>li {display: inline-block}\n",
       ".list-inline>li:not(:last-child)::after {content: \"\\00b7\"; padding: 0 .5ex}\n",
       "</style>\n",
       "<ol class=list-inline><li>'REC'</li><li>'FRE'</li><li>'MON'</li><li>'CC_CARD'</li><li>'AVRG'</li><li>'PC_CALC20'</li><li>'PSWEATERS'</li><li>'PKNIT_TOPS'</li><li>'PKNIT_DRES'</li><li>'PBLOUSES'</li><li>'PJACKETS'</li><li>'PCAR_PNTS'</li><li>'PCAS_PNTS'</li><li>'PSHIRTS'</li><li>'PDRESSES'</li><li>'PSUITS'</li><li>'POUTERWEAR'</li><li>'PJEWELRY'</li><li>'PFASHION'</li><li>'PLEGWEAR'</li><li>'PCOLLSPND'</li><li>'AMSPEND'</li><li>'PSSPEND'</li><li>'CCSPEND'</li><li>'AXSPEND'</li><li>'OMONSPEND'</li><li>'PREVPD'</li><li>'GMP'</li><li>'PROMOS'</li><li>'DAYS'</li><li>'FREDAYS'</li><li>'MARKDOWN'</li><li>'CLASSES'</li><li>'COUPONS'</li><li>'STYLES'</li><li>'STORES'</li><li>'STORELOY'</li><li>'VALPHON'</li><li>'WEB'</li><li>'MAILED'</li><li>'RESPONDED'</li><li>'RESPONSERATE'</li><li>'LTFREDAY'</li><li>'CLUSTYPE'</li><li>'PERCRET'</li><li>'RESP'</li><li>'hi_trans'</li></ol>\n"
      ],
      "text/latex": [
       "\\begin{enumerate*}\n",
       "\\item 'REC'\n",
       "\\item 'FRE'\n",
       "\\item 'MON'\n",
       "\\item 'CC\\_CARD'\n",
       "\\item 'AVRG'\n",
       "\\item 'PC\\_CALC20'\n",
       "\\item 'PSWEATERS'\n",
       "\\item 'PKNIT\\_TOPS'\n",
       "\\item 'PKNIT\\_DRES'\n",
       "\\item 'PBLOUSES'\n",
       "\\item 'PJACKETS'\n",
       "\\item 'PCAR\\_PNTS'\n",
       "\\item 'PCAS\\_PNTS'\n",
       "\\item 'PSHIRTS'\n",
       "\\item 'PDRESSES'\n",
       "\\item 'PSUITS'\n",
       "\\item 'POUTERWEAR'\n",
       "\\item 'PJEWELRY'\n",
       "\\item 'PFASHION'\n",
       "\\item 'PLEGWEAR'\n",
       "\\item 'PCOLLSPND'\n",
       "\\item 'AMSPEND'\n",
       "\\item 'PSSPEND'\n",
       "\\item 'CCSPEND'\n",
       "\\item 'AXSPEND'\n",
       "\\item 'OMONSPEND'\n",
       "\\item 'PREVPD'\n",
       "\\item 'GMP'\n",
       "\\item 'PROMOS'\n",
       "\\item 'DAYS'\n",
       "\\item 'FREDAYS'\n",
       "\\item 'MARKDOWN'\n",
       "\\item 'CLASSES'\n",
       "\\item 'COUPONS'\n",
       "\\item 'STYLES'\n",
       "\\item 'STORES'\n",
       "\\item 'STORELOY'\n",
       "\\item 'VALPHON'\n",
       "\\item 'WEB'\n",
       "\\item 'MAILED'\n",
       "\\item 'RESPONDED'\n",
       "\\item 'RESPONSERATE'\n",
       "\\item 'LTFREDAY'\n",
       "\\item 'CLUSTYPE'\n",
       "\\item 'PERCRET'\n",
       "\\item 'RESP'\n",
       "\\item 'hi\\_trans'\n",
       "\\end{enumerate*}\n"
      ],
      "text/markdown": [
       "1. 'REC'\n",
       "2. 'FRE'\n",
       "3. 'MON'\n",
       "4. 'CC_CARD'\n",
       "5. 'AVRG'\n",
       "6. 'PC_CALC20'\n",
       "7. 'PSWEATERS'\n",
       "8. 'PKNIT_TOPS'\n",
       "9. 'PKNIT_DRES'\n",
       "10. 'PBLOUSES'\n",
       "11. 'PJACKETS'\n",
       "12. 'PCAR_PNTS'\n",
       "13. 'PCAS_PNTS'\n",
       "14. 'PSHIRTS'\n",
       "15. 'PDRESSES'\n",
       "16. 'PSUITS'\n",
       "17. 'POUTERWEAR'\n",
       "18. 'PJEWELRY'\n",
       "19. 'PFASHION'\n",
       "20. 'PLEGWEAR'\n",
       "21. 'PCOLLSPND'\n",
       "22. 'AMSPEND'\n",
       "23. 'PSSPEND'\n",
       "24. 'CCSPEND'\n",
       "25. 'AXSPEND'\n",
       "26. 'OMONSPEND'\n",
       "27. 'PREVPD'\n",
       "28. 'GMP'\n",
       "29. 'PROMOS'\n",
       "30. 'DAYS'\n",
       "31. 'FREDAYS'\n",
       "32. 'MARKDOWN'\n",
       "33. 'CLASSES'\n",
       "34. 'COUPONS'\n",
       "35. 'STYLES'\n",
       "36. 'STORES'\n",
       "37. 'STORELOY'\n",
       "38. 'VALPHON'\n",
       "39. 'WEB'\n",
       "40. 'MAILED'\n",
       "41. 'RESPONDED'\n",
       "42. 'RESPONSERATE'\n",
       "43. 'LTFREDAY'\n",
       "44. 'CLUSTYPE'\n",
       "45. 'PERCRET'\n",
       "46. 'RESP'\n",
       "47. 'hi_trans'\n",
       "\n",
       "\n"
      ],
      "text/plain": [
       " [1] \"REC\"          \"FRE\"          \"MON\"          \"CC_CARD\"      \"AVRG\"        \n",
       " [6] \"PC_CALC20\"    \"PSWEATERS\"    \"PKNIT_TOPS\"   \"PKNIT_DRES\"   \"PBLOUSES\"    \n",
       "[11] \"PJACKETS\"     \"PCAR_PNTS\"    \"PCAS_PNTS\"    \"PSHIRTS\"      \"PDRESSES\"    \n",
       "[16] \"PSUITS\"       \"POUTERWEAR\"   \"PJEWELRY\"     \"PFASHION\"     \"PLEGWEAR\"    \n",
       "[21] \"PCOLLSPND\"    \"AMSPEND\"      \"PSSPEND\"      \"CCSPEND\"      \"AXSPEND\"     \n",
       "[26] \"OMONSPEND\"    \"PREVPD\"       \"GMP\"          \"PROMOS\"       \"DAYS\"        \n",
       "[31] \"FREDAYS\"      \"MARKDOWN\"     \"CLASSES\"      \"COUPONS\"      \"STYLES\"      \n",
       "[36] \"STORES\"       \"STORELOY\"     \"VALPHON\"      \"WEB\"          \"MAILED\"      \n",
       "[41] \"RESPONDED\"    \"RESPONSERATE\" \"LTFREDAY\"     \"CLUSTYPE\"     \"PERCRET\"     \n",
       "[46] \"RESP\"         \"hi_trans\"    "
      ]
     },
     "metadata": {},
     "output_type": "display_data"
    },
    {
     "data": {
      "text/html": [
       "<style>\n",
       ".list-inline {list-style: none; margin:0; padding: 0}\n",
       ".list-inline>li {display: inline-block}\n",
       ".list-inline>li:not(:last-child)::after {content: \"\\00b7\"; padding: 0 .5ex}\n",
       "</style>\n",
       "<ol class=list-inline><li>'REC'</li><li>'FRE'</li><li>'MON'</li><li>'CC_CARD'</li><li>'AVRG'</li><li>'PC_CALC20'</li><li>'PSWEATERS'</li><li>'PKNIT_TOPS'</li><li>'PKNIT_DRES'</li><li>'PBLOUSES'</li><li>'PJACKETS'</li><li>'PCAR_PNTS'</li><li>'PCAS_PNTS'</li><li>'PSHIRTS'</li><li>'PDRESSES'</li><li>'PSUITS'</li><li>'POUTERWEAR'</li><li>'PJEWELRY'</li><li>'PFASHION'</li><li>'PLEGWEAR'</li><li>'PCOLLSPND'</li><li>'AMSPEND'</li><li>'PSSPEND'</li><li>'CCSPEND'</li><li>'AXSPEND'</li><li>'OMONSPEND'</li><li>'PREVPD'</li><li>'GMP'</li><li>'PROMOS'</li><li>'DAYS'</li><li>'FREDAYS'</li><li>'MARKDOWN'</li><li>'CLASSES'</li><li>'COUPONS'</li><li>'STYLES'</li><li>'STORES'</li><li>'STORELOY'</li><li>'VALPHON'</li><li>'WEB'</li><li>'MAILED'</li><li>'RESPONDED'</li><li>'RESPONSERATE'</li><li>'LTFREDAY'</li><li>'CLUSTYPE'</li><li>'PERCRET'</li><li>'RESP'</li><li>'hi_trans'</li><li>'amount23'</li><li>'amount456'</li></ol>\n"
      ],
      "text/latex": [
       "\\begin{enumerate*}\n",
       "\\item 'REC'\n",
       "\\item 'FRE'\n",
       "\\item 'MON'\n",
       "\\item 'CC\\_CARD'\n",
       "\\item 'AVRG'\n",
       "\\item 'PC\\_CALC20'\n",
       "\\item 'PSWEATERS'\n",
       "\\item 'PKNIT\\_TOPS'\n",
       "\\item 'PKNIT\\_DRES'\n",
       "\\item 'PBLOUSES'\n",
       "\\item 'PJACKETS'\n",
       "\\item 'PCAR\\_PNTS'\n",
       "\\item 'PCAS\\_PNTS'\n",
       "\\item 'PSHIRTS'\n",
       "\\item 'PDRESSES'\n",
       "\\item 'PSUITS'\n",
       "\\item 'POUTERWEAR'\n",
       "\\item 'PJEWELRY'\n",
       "\\item 'PFASHION'\n",
       "\\item 'PLEGWEAR'\n",
       "\\item 'PCOLLSPND'\n",
       "\\item 'AMSPEND'\n",
       "\\item 'PSSPEND'\n",
       "\\item 'CCSPEND'\n",
       "\\item 'AXSPEND'\n",
       "\\item 'OMONSPEND'\n",
       "\\item 'PREVPD'\n",
       "\\item 'GMP'\n",
       "\\item 'PROMOS'\n",
       "\\item 'DAYS'\n",
       "\\item 'FREDAYS'\n",
       "\\item 'MARKDOWN'\n",
       "\\item 'CLASSES'\n",
       "\\item 'COUPONS'\n",
       "\\item 'STYLES'\n",
       "\\item 'STORES'\n",
       "\\item 'STORELOY'\n",
       "\\item 'VALPHON'\n",
       "\\item 'WEB'\n",
       "\\item 'MAILED'\n",
       "\\item 'RESPONDED'\n",
       "\\item 'RESPONSERATE'\n",
       "\\item 'LTFREDAY'\n",
       "\\item 'CLUSTYPE'\n",
       "\\item 'PERCRET'\n",
       "\\item 'RESP'\n",
       "\\item 'hi\\_trans'\n",
       "\\item 'amount23'\n",
       "\\item 'amount456'\n",
       "\\end{enumerate*}\n"
      ],
      "text/markdown": [
       "1. 'REC'\n",
       "2. 'FRE'\n",
       "3. 'MON'\n",
       "4. 'CC_CARD'\n",
       "5. 'AVRG'\n",
       "6. 'PC_CALC20'\n",
       "7. 'PSWEATERS'\n",
       "8. 'PKNIT_TOPS'\n",
       "9. 'PKNIT_DRES'\n",
       "10. 'PBLOUSES'\n",
       "11. 'PJACKETS'\n",
       "12. 'PCAR_PNTS'\n",
       "13. 'PCAS_PNTS'\n",
       "14. 'PSHIRTS'\n",
       "15. 'PDRESSES'\n",
       "16. 'PSUITS'\n",
       "17. 'POUTERWEAR'\n",
       "18. 'PJEWELRY'\n",
       "19. 'PFASHION'\n",
       "20. 'PLEGWEAR'\n",
       "21. 'PCOLLSPND'\n",
       "22. 'AMSPEND'\n",
       "23. 'PSSPEND'\n",
       "24. 'CCSPEND'\n",
       "25. 'AXSPEND'\n",
       "26. 'OMONSPEND'\n",
       "27. 'PREVPD'\n",
       "28. 'GMP'\n",
       "29. 'PROMOS'\n",
       "30. 'DAYS'\n",
       "31. 'FREDAYS'\n",
       "32. 'MARKDOWN'\n",
       "33. 'CLASSES'\n",
       "34. 'COUPONS'\n",
       "35. 'STYLES'\n",
       "36. 'STORES'\n",
       "37. 'STORELOY'\n",
       "38. 'VALPHON'\n",
       "39. 'WEB'\n",
       "40. 'MAILED'\n",
       "41. 'RESPONDED'\n",
       "42. 'RESPONSERATE'\n",
       "43. 'LTFREDAY'\n",
       "44. 'CLUSTYPE'\n",
       "45. 'PERCRET'\n",
       "46. 'RESP'\n",
       "47. 'hi_trans'\n",
       "48. 'amount23'\n",
       "49. 'amount456'\n",
       "\n",
       "\n"
      ],
      "text/plain": [
       " [1] \"REC\"          \"FRE\"          \"MON\"          \"CC_CARD\"      \"AVRG\"        \n",
       " [6] \"PC_CALC20\"    \"PSWEATERS\"    \"PKNIT_TOPS\"   \"PKNIT_DRES\"   \"PBLOUSES\"    \n",
       "[11] \"PJACKETS\"     \"PCAR_PNTS\"    \"PCAS_PNTS\"    \"PSHIRTS\"      \"PDRESSES\"    \n",
       "[16] \"PSUITS\"       \"POUTERWEAR\"   \"PJEWELRY\"     \"PFASHION\"     \"PLEGWEAR\"    \n",
       "[21] \"PCOLLSPND\"    \"AMSPEND\"      \"PSSPEND\"      \"CCSPEND\"      \"AXSPEND\"     \n",
       "[26] \"OMONSPEND\"    \"PREVPD\"       \"GMP\"          \"PROMOS\"       \"DAYS\"        \n",
       "[31] \"FREDAYS\"      \"MARKDOWN\"     \"CLASSES\"      \"COUPONS\"      \"STYLES\"      \n",
       "[36] \"STORES\"       \"STORELOY\"     \"VALPHON\"      \"WEB\"          \"MAILED\"      \n",
       "[41] \"RESPONDED\"    \"RESPONSERATE\" \"LTFREDAY\"     \"CLUSTYPE\"     \"PERCRET\"     \n",
       "[46] \"RESP\"         \"hi_trans\"     \"amount23\"     \"amount456\"   "
      ]
     },
     "metadata": {},
     "output_type": "display_data"
    },
    {
     "name": "stderr",
     "output_type": "stream",
     "text": [
      "The following object is masked _by_ .GlobalEnv:\n",
      "\n",
      "    hi_trans\n",
      "\n",
      "\n",
      "The following objects are masked from tr (pos = 3):\n",
      "\n",
      "    AMSPEND, AVRG, AXSPEND, CC_CARD, CCSPEND, CLASSES, CLUSTYPE,\n",
      "    COUPONS, DAYS, FRE, FREDAYS, GMP, hi_trans, LTFREDAY, MAILED,\n",
      "    MARKDOWN, MON, OMONSPEND, PBLOUSES, PC_CALC20, PCAR_PNTS,\n",
      "    PCAS_PNTS, PCOLLSPND, PDRESSES, PERCRET, PFASHION, PJACKETS,\n",
      "    PJEWELRY, PKNIT_DRES, PKNIT_TOPS, PLEGWEAR, POUTERWEAR, PREVPD,\n",
      "    PROMOS, PSHIRTS, PSSPEND, PSUITS, PSWEATERS, REC, RESP, RESPONDED,\n",
      "    RESPONSERATE, SMONSPEND, STORELOY, STORES, STYLES, TMONSPEND,\n",
      "    VALPHON, WEB\n",
      "\n",
      "\n",
      "The following objects are masked from val (pos = 4):\n",
      "\n",
      "    AMSPEND, AVRG, AXSPEND, CC_CARD, CCSPEND, CLASSES, CLUSTYPE,\n",
      "    COUPONS, DAYS, FRE, FREDAYS, GMP, LTFREDAY, MAILED, MARKDOWN, MON,\n",
      "    OMONSPEND, PBLOUSES, PC_CALC20, PCAR_PNTS, PCAS_PNTS, PCOLLSPND,\n",
      "    PDRESSES, PERCRET, PFASHION, PJACKETS, PJEWELRY, PKNIT_DRES,\n",
      "    PKNIT_TOPS, PLEGWEAR, POUTERWEAR, PREVPD, PROMOS, PSHIRTS, PSSPEND,\n",
      "    PSUITS, PSWEATERS, REC, RESP, RESPONDED, RESPONSERATE, SMONSPEND,\n",
      "    STORELOY, STORES, STYLES, TMONSPEND, VALPHON, WEB\n",
      "\n",
      "\n",
      "The following objects are masked from tr (pos = 5):\n",
      "\n",
      "    AMSPEND, AVRG, AXSPEND, CC_CARD, CCSPEND, CLASSES, CLUSTYPE,\n",
      "    COUPONS, DAYS, FRE, FREDAYS, GMP, LTFREDAY, MAILED, MARKDOWN, MON,\n",
      "    OMONSPEND, PBLOUSES, PC_CALC20, PCAR_PNTS, PCAS_PNTS, PCOLLSPND,\n",
      "    PDRESSES, PERCRET, PFASHION, PJACKETS, PJEWELRY, PKNIT_DRES,\n",
      "    PKNIT_TOPS, PLEGWEAR, POUTERWEAR, PREVPD, PROMOS, PSHIRTS, PSSPEND,\n",
      "    PSUITS, PSWEATERS, REC, RESP, RESPONDED, RESPONSERATE, SMONSPEND,\n",
      "    STORELOY, STORES, STYLES, TMONSPEND, VALPHON, WEB\n",
      "\n",
      "\n",
      "The following objects are masked from training_data:\n",
      "\n",
      "    AMSPEND, AVRG, AXSPEND, CC_CARD, CCSPEND, CLASSES, CLUSTYPE,\n",
      "    COUPONS, DAYS, FRE, FREDAYS, GMP, LTFREDAY, MAILED, MARKDOWN, MON,\n",
      "    OMONSPEND, PBLOUSES, PC_CALC20, PCAR_PNTS, PCAS_PNTS, PCOLLSPND,\n",
      "    PDRESSES, PERCRET, PFASHION, PJACKETS, PJEWELRY, PKNIT_DRES,\n",
      "    PKNIT_TOPS, PLEGWEAR, POUTERWEAR, PREVPD, PROMOS, PSHIRTS, PSSPEND,\n",
      "    PSUITS, PSWEATERS, REC, RESP, RESPONDED, RESPONSERATE, SMONSPEND,\n",
      "    STORELOY, STORES, STYLES, TMONSPEND, VALPHON, WEB\n",
      "\n",
      "\n"
     ]
    },
    {
     "data": {
      "text/html": [
       "<style>\n",
       ".list-inline {list-style: none; margin:0; padding: 0}\n",
       ".list-inline>li {display: inline-block}\n",
       ".list-inline>li:not(:last-child)::after {content: \"\\00b7\"; padding: 0 .5ex}\n",
       "</style>\n",
       "<ol class=list-inline><li>'REC'</li><li>'FRE'</li><li>'MON'</li><li>'CC_CARD'</li><li>'AVRG'</li><li>'PC_CALC20'</li><li>'PSWEATERS'</li><li>'PKNIT_TOPS'</li><li>'PKNIT_DRES'</li><li>'PBLOUSES'</li><li>'PJACKETS'</li><li>'PCAR_PNTS'</li><li>'PCAS_PNTS'</li><li>'PSHIRTS'</li><li>'PDRESSES'</li><li>'PSUITS'</li><li>'POUTERWEAR'</li><li>'PJEWELRY'</li><li>'PFASHION'</li><li>'PLEGWEAR'</li><li>'PCOLLSPND'</li><li>'AMSPEND'</li><li>'PSSPEND'</li><li>'CCSPEND'</li><li>'AXSPEND'</li><li>'OMONSPEND'</li><li>'PREVPD'</li><li>'GMP'</li><li>'PROMOS'</li><li>'DAYS'</li><li>'FREDAYS'</li><li>'MARKDOWN'</li><li>'CLASSES'</li><li>'COUPONS'</li><li>'STYLES'</li><li>'STORES'</li><li>'STORELOY'</li><li>'VALPHON'</li><li>'WEB'</li><li>'MAILED'</li><li>'RESPONDED'</li><li>'RESPONSERATE'</li><li>'LTFREDAY'</li><li>'CLUSTYPE'</li><li>'PERCRET'</li><li>'RESP'</li><li>'hi_trans'</li><li>'amount23'</li><li>'amount456'</li></ol>\n"
      ],
      "text/latex": [
       "\\begin{enumerate*}\n",
       "\\item 'REC'\n",
       "\\item 'FRE'\n",
       "\\item 'MON'\n",
       "\\item 'CC\\_CARD'\n",
       "\\item 'AVRG'\n",
       "\\item 'PC\\_CALC20'\n",
       "\\item 'PSWEATERS'\n",
       "\\item 'PKNIT\\_TOPS'\n",
       "\\item 'PKNIT\\_DRES'\n",
       "\\item 'PBLOUSES'\n",
       "\\item 'PJACKETS'\n",
       "\\item 'PCAR\\_PNTS'\n",
       "\\item 'PCAS\\_PNTS'\n",
       "\\item 'PSHIRTS'\n",
       "\\item 'PDRESSES'\n",
       "\\item 'PSUITS'\n",
       "\\item 'POUTERWEAR'\n",
       "\\item 'PJEWELRY'\n",
       "\\item 'PFASHION'\n",
       "\\item 'PLEGWEAR'\n",
       "\\item 'PCOLLSPND'\n",
       "\\item 'AMSPEND'\n",
       "\\item 'PSSPEND'\n",
       "\\item 'CCSPEND'\n",
       "\\item 'AXSPEND'\n",
       "\\item 'OMONSPEND'\n",
       "\\item 'PREVPD'\n",
       "\\item 'GMP'\n",
       "\\item 'PROMOS'\n",
       "\\item 'DAYS'\n",
       "\\item 'FREDAYS'\n",
       "\\item 'MARKDOWN'\n",
       "\\item 'CLASSES'\n",
       "\\item 'COUPONS'\n",
       "\\item 'STYLES'\n",
       "\\item 'STORES'\n",
       "\\item 'STORELOY'\n",
       "\\item 'VALPHON'\n",
       "\\item 'WEB'\n",
       "\\item 'MAILED'\n",
       "\\item 'RESPONDED'\n",
       "\\item 'RESPONSERATE'\n",
       "\\item 'LTFREDAY'\n",
       "\\item 'CLUSTYPE'\n",
       "\\item 'PERCRET'\n",
       "\\item 'RESP'\n",
       "\\item 'hi\\_trans'\n",
       "\\item 'amount23'\n",
       "\\item 'amount456'\n",
       "\\end{enumerate*}\n"
      ],
      "text/markdown": [
       "1. 'REC'\n",
       "2. 'FRE'\n",
       "3. 'MON'\n",
       "4. 'CC_CARD'\n",
       "5. 'AVRG'\n",
       "6. 'PC_CALC20'\n",
       "7. 'PSWEATERS'\n",
       "8. 'PKNIT_TOPS'\n",
       "9. 'PKNIT_DRES'\n",
       "10. 'PBLOUSES'\n",
       "11. 'PJACKETS'\n",
       "12. 'PCAR_PNTS'\n",
       "13. 'PCAS_PNTS'\n",
       "14. 'PSHIRTS'\n",
       "15. 'PDRESSES'\n",
       "16. 'PSUITS'\n",
       "17. 'POUTERWEAR'\n",
       "18. 'PJEWELRY'\n",
       "19. 'PFASHION'\n",
       "20. 'PLEGWEAR'\n",
       "21. 'PCOLLSPND'\n",
       "22. 'AMSPEND'\n",
       "23. 'PSSPEND'\n",
       "24. 'CCSPEND'\n",
       "25. 'AXSPEND'\n",
       "26. 'OMONSPEND'\n",
       "27. 'PREVPD'\n",
       "28. 'GMP'\n",
       "29. 'PROMOS'\n",
       "30. 'DAYS'\n",
       "31. 'FREDAYS'\n",
       "32. 'MARKDOWN'\n",
       "33. 'CLASSES'\n",
       "34. 'COUPONS'\n",
       "35. 'STYLES'\n",
       "36. 'STORES'\n",
       "37. 'STORELOY'\n",
       "38. 'VALPHON'\n",
       "39. 'WEB'\n",
       "40. 'MAILED'\n",
       "41. 'RESPONDED'\n",
       "42. 'RESPONSERATE'\n",
       "43. 'LTFREDAY'\n",
       "44. 'CLUSTYPE'\n",
       "45. 'PERCRET'\n",
       "46. 'RESP'\n",
       "47. 'hi_trans'\n",
       "48. 'amount23'\n",
       "49. 'amount456'\n",
       "\n",
       "\n"
      ],
      "text/plain": [
       " [1] \"REC\"          \"FRE\"          \"MON\"          \"CC_CARD\"      \"AVRG\"        \n",
       " [6] \"PC_CALC20\"    \"PSWEATERS\"    \"PKNIT_TOPS\"   \"PKNIT_DRES\"   \"PBLOUSES\"    \n",
       "[11] \"PJACKETS\"     \"PCAR_PNTS\"    \"PCAS_PNTS\"    \"PSHIRTS\"      \"PDRESSES\"    \n",
       "[16] \"PSUITS\"       \"POUTERWEAR\"   \"PJEWELRY\"     \"PFASHION\"     \"PLEGWEAR\"    \n",
       "[21] \"PCOLLSPND\"    \"AMSPEND\"      \"PSSPEND\"      \"CCSPEND\"      \"AXSPEND\"     \n",
       "[26] \"OMONSPEND\"    \"PREVPD\"       \"GMP\"          \"PROMOS\"       \"DAYS\"        \n",
       "[31] \"FREDAYS\"      \"MARKDOWN\"     \"CLASSES\"      \"COUPONS\"      \"STYLES\"      \n",
       "[36] \"STORES\"       \"STORELOY\"     \"VALPHON\"      \"WEB\"          \"MAILED\"      \n",
       "[41] \"RESPONDED\"    \"RESPONSERATE\" \"LTFREDAY\"     \"CLUSTYPE\"     \"PERCRET\"     \n",
       "[46] \"RESP\"         \"hi_trans\"     \"amount23\"     \"amount456\"   "
      ]
     },
     "metadata": {},
     "output_type": "display_data"
    }
   ],
   "source": [
    "# Solution:\n",
    "attach(tr)\n",
    "amount23=TMONSPEND-OMONSPEND\n",
    "amount456=SMONSPEND-TMONSPEND\n",
    "names(tr)\n",
    "\n",
    "tr=tr[,-26]\n",
    "names(tr)\n",
    "\n",
    "tr=tr[,-27]\n",
    "names(tr)\n",
    "\n",
    "tr=data.frame(tr,amount23,amount456)\n",
    "names(tr)\n",
    "\n",
    "attach(val)\n",
    "amount23=TMONSPEND-OMONSPEND\n",
    "amount456=SMONSPEND-TMONSPEND\n",
    "val=val[,-26]\n",
    "val=val[,-27]\n",
    "val=data.frame(val,amount23,amount456)\n",
    "names(val)"
   ]
  },
  {
   "cell_type": "markdown",
   "id": "19a6d6c3-c9e6-4986-9baf-04fede014823",
   "metadata": {},
   "source": [
    "**(j) So, now this exercise is finished! Note that all changes to variables\n",
    "(transformations, derivations of new variables, etc.) should be done\n",
    "for both the training data and the validation data. These datasets\n",
    "are going to be used in later assignments!!!<br>\n",
    "To save your data you can use the command write.table (if you have\n",
    "your data as a dataframe).**"
   ]
  },
  {
   "cell_type": "code",
   "execution_count": 30,
   "id": "8113df6a-7f1c-4ed3-9252-d9b6cc96db98",
   "metadata": {},
   "outputs": [],
   "source": [
    "# Solution:\n",
    "write.table(tr,\"data/tr_clothing_prepared.txt\",row.names=FALSE)\n",
    "write.table(val,\"data/val_clothing_prepared.txt\",row.names=FALSE)"
   ]
  },
  {
   "cell_type": "markdown",
   "id": "d452b491-c523-40b3-baa2-25cda9bc0243",
   "metadata": {},
   "source": [
    "**Description of the variables in the dataset Clothing Store:<br>\n",
    "• Customer ID (encrypted)<br>\n",
    "• Zip code<br>\n",
    "• Number of purchase visits<br>\n",
    "• Total net sales<br>\n",
    "• Average amount spent per visit<br>\n",
    "• Amount spent at each of four different franchises (four variables)<br>\n",
    "• Amount spent in the past month, the past three months, and the past six months<br>\n",
    "• Amount spent the same period last year<br>\n",
    "• Gross margin percentage<br>\n",
    "• Number of marketing promotions on file<br>\n",
    "• Number of days the customer has been on file<br>\n",
    "• Number of days between purchases<br>\n",
    "• Markdown percentage on customer purchases<br>\n",
    "• Number of different product classes purchased<br>\n",
    "• Number of coupons used by the customer<br>\n",
    "• Total number of individual items purchased by the customer<br>\n",
    "• Number of stores the customer shopped at<br>\n",
    "• Number of promotions mailed in the past year<br>\n",
    "• Number of promotions responded to in the last year<br>\n",
    "• Promotion response rate for the past year<br>\n",
    "• Product uniformity (low score = diverse spending patterns)<br>\n",
    "• Lifetime average time between visits<br>\n",
    "• Microvision lifestyle cluster type<br>\n",
    "• Percent of returns<br>\n",
    "• Credit card user (flag)<br>\n",
    "• Valid phone number on file (flag)<br>\n",
    "• Web shopper (flag)<br>\n",
    "• 15 variables providing the percentages spent by the customer on specific classes of\n",
    "clothing, including sweaters, knit tops, knit dresses, blouses, jackets, career pants,\n",
    "casual pants, shirts, dresses, suits, outerwear, jewelry, fashion, legwear, collectibles line\n",
    "and one variable showing the brand<br>\n",
    "• Response to promotion (target variable)**"
   ]
  },
  {
   "cell_type": "code",
   "execution_count": null,
   "id": "4ecdf6ac-0be9-4371-890b-ed3f0578b102",
   "metadata": {},
   "outputs": [],
   "source": []
  }
 ],
 "metadata": {
  "kernelspec": {
   "display_name": "R",
   "language": "R",
   "name": "ir"
  },
  "language_info": {
   "codemirror_mode": "r",
   "file_extension": ".r",
   "mimetype": "text/x-r-source",
   "name": "R",
   "pygments_lexer": "r",
   "version": "4.4.1"
  }
 },
 "nbformat": 4,
 "nbformat_minor": 5
}
