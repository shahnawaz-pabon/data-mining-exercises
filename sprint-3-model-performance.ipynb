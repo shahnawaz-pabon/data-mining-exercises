{
 "cells": [
  {
   "cell_type": "markdown",
   "id": "991fe6f2-cdf9-43a5-8a0c-da9dd9544c40",
   "metadata": {},
   "source": [
    "## 1. \n",
    "**(a) Load the dataset iris by typing data(iris).**"
   ]
  },
  {
   "cell_type": "code",
   "execution_count": 1,
   "id": "579adb91-2a0f-4fe5-b536-281d8bac8e86",
   "metadata": {},
   "outputs": [],
   "source": [
    "# Solution:\n",
    "data(iris)"
   ]
  },
  {
   "cell_type": "markdown",
   "id": "3f814418-2b5f-4dcb-af2e-ba977ba71e0c",
   "metadata": {},
   "source": [
    "**(b) Load the packages rpart and rpart.plot. Use the command\n",
    "iristree = rpart(Species ~ .,data=iris, method=\"class\")to construct a decision tree model for classifying iris flowers based\n",
    "on some input variables in the dataset iris. The target (response)\n",
    "variable is Species.<br>\n",
    "In this exercise, we’re concentrating on learning different methods\n",
    "to assessing models. We’re not discussing the data mining methods\n",
    "behind the modeling (such as understanding the building of a decision\n",
    "tree). This will come later.**"
   ]
  },
  {
   "cell_type": "code",
   "execution_count": 2,
   "id": "a8bd5679-5f2f-4245-a7c1-1ff71b815a36",
   "metadata": {},
   "outputs": [],
   "source": [
    "# Solution:\n",
    "library(rpart)\n",
    "iristree = rpart(Species ~ .,data=iris, method=\"class\")"
   ]
  },
  {
   "cell_type": "markdown",
   "id": "51a90d0c-2a55-4ad2-837e-235c293ca360",
   "metadata": {},
   "source": [
    "**(c) Divide the sample into a training data set with 2/3 of the observations\n",
    "and the rest in a test data set.**"
   ]
  },
  {
   "cell_type": "code",
   "execution_count": 3,
   "id": "83ee978d-0aa0-479a-abd7-d17337f70d7e",
   "metadata": {},
   "outputs": [],
   "source": [
    "# Solution:\n",
    "n = nrow(iris)\n",
    "set.seed(42)\n",
    "train.id = sample(n, size = 2/3*n)\n",
    "test.id = setdiff(1:n, train.id)"
   ]
  },
  {
   "cell_type": "markdown",
   "id": "29d00a52-f616-4e27-b40f-16eafde3b4ef",
   "metadata": {},
   "source": [
    "**(d) Create a standard decision tree for the training data set.**"
   ]
  },
  {
   "cell_type": "code",
   "execution_count": 4,
   "id": "d279776b-2488-4574-9743-aea8216a7c2c",
   "metadata": {},
   "outputs": [],
   "source": [
    "# Solution:\n",
    "traintree = rpart(Species ~ .,data=iris, method=\"class\",\n",
    "subset=train.id)"
   ]
  },
  {
   "cell_type": "markdown",
   "id": "36b50945-c37f-4167-b187-e21dc3183e57",
   "metadata": {},
   "source": [
    "**(e) Make predictions with the decision tree model for the test data set.**"
   ]
  },
  {
   "cell_type": "code",
   "execution_count": 5,
   "id": "edb4ed99-0ed2-4103-9741-626621524cad",
   "metadata": {},
   "outputs": [],
   "source": [
    "# Solution:\n",
    "pred=predict(traintree, iris[-train.id,], type=\"class\")"
   ]
  },
  {
   "cell_type": "markdown",
   "id": "9d494832-3abc-4278-9039-4524c001b789",
   "metadata": {},
   "source": [
    "**(f) Take a look at the predicted values.**"
   ]
  },
  {
   "cell_type": "code",
   "execution_count": 6,
   "id": "ced9801e-fc02-42e5-a5db-b6d565e680a3",
   "metadata": {},
   "outputs": [
    {
     "data": {
      "text/html": [
       "<style>\n",
       ".dl-inline {width: auto; margin:0; padding: 0}\n",
       ".dl-inline>dt, .dl-inline>dd {float: none; width: auto; display: inline-block}\n",
       ".dl-inline>dt::after {content: \":\\0020\"; padding-right: .5ex}\n",
       ".dl-inline>dt:not(:first-of-type) {padding-left: .5ex}\n",
       "</style><dl class=dl-inline><dt>7</dt><dd>setosa</dd><dt>11</dt><dd>setosa</dd><dt>12</dt><dd>setosa</dd><dt>14</dt><dd>setosa</dd><dt>19</dt><dd>setosa</dd><dt>23</dt><dd>setosa</dd></dl>\n",
       "\n",
       "<details>\n",
       "\t<summary style=display:list-item;cursor:pointer>\n",
       "\t\t<strong>Levels</strong>:\n",
       "\t</summary>\n",
       "\t<style>\n",
       "\t.list-inline {list-style: none; margin:0; padding: 0}\n",
       "\t.list-inline>li {display: inline-block}\n",
       "\t.list-inline>li:not(:last-child)::after {content: \"\\00b7\"; padding: 0 .5ex}\n",
       "\t</style>\n",
       "\t<ol class=list-inline><li>'setosa'</li><li>'versicolor'</li><li>'virginica'</li></ol>\n",
       "</details>"
      ],
      "text/latex": [
       "\\begin{description*}\n",
       "\\item[7] setosa\n",
       "\\item[11] setosa\n",
       "\\item[12] setosa\n",
       "\\item[14] setosa\n",
       "\\item[19] setosa\n",
       "\\item[23] setosa\n",
       "\\end{description*}\n",
       "\n",
       "\\emph{Levels}: \\begin{enumerate*}\n",
       "\\item 'setosa'\n",
       "\\item 'versicolor'\n",
       "\\item 'virginica'\n",
       "\\end{enumerate*}\n"
      ],
      "text/markdown": [
       "7\n",
       ":   setosa11\n",
       ":   setosa12\n",
       ":   setosa14\n",
       ":   setosa19\n",
       ":   setosa23\n",
       ":   setosa\n",
       "\n",
       "\n",
       "**Levels**: 1. 'setosa'\n",
       "2. 'versicolor'\n",
       "3. 'virginica'\n",
       "\n",
       "\n"
      ],
      "text/plain": [
       "     7     11     12     14     19     23 \n",
       "setosa setosa setosa setosa setosa setosa \n",
       "Levels: setosa versicolor virginica"
      ]
     },
     "metadata": {},
     "output_type": "display_data"
    }
   ],
   "source": [
    "# Solution:\n",
    "head(pred)"
   ]
  },
  {
   "cell_type": "markdown",
   "id": "3bac464f-a211-4a48-94cd-6d427258cfe6",
   "metadata": {},
   "source": [
    "**(g) Construct the confusion matrix. Interpretation?**"
   ]
  },
  {
   "cell_type": "code",
   "execution_count": 7,
   "id": "845638eb-e6d9-4c89-9520-e28fdc806de3",
   "metadata": {},
   "outputs": [
    {
     "data": {
      "text/plain": [
       "            \n",
       "pred         setosa versicolor virginica\n",
       "  setosa         13          0         0\n",
       "  versicolor      0         16         1\n",
       "  virginica       0          1        19"
      ]
     },
     "metadata": {},
     "output_type": "display_data"
    }
   ],
   "source": [
    "# Solution:\n",
    "table(pred, iris[-train.id, \"Species\"])"
   ]
  },
  {
   "cell_type": "markdown",
   "id": "66cacc5e-6517-49a4-a455-9defb810b3b5",
   "metadata": {},
   "source": [
    "## 2. Medical researchers want to explore the relationship between patient age and the presence (disease=1) or absence (disease=0) of a particular disease. Data are collected for 20 patients and stored in the data set disease."
   ]
  },
  {
   "cell_type": "markdown",
   "id": "c1a1ebce-0eda-4178-b27d-c059a88bba75",
   "metadata": {},
   "source": [
    "**(a) Read the data set disease into R, for example with the command\n",
    "read.csv.**"
   ]
  },
  {
   "cell_type": "code",
   "execution_count": 8,
   "id": "04a31078-2782-432f-a0da-f00aeffeed9f",
   "metadata": {},
   "outputs": [
    {
     "data": {
      "text/html": [
       "<table class=\"dataframe\">\n",
       "<caption>A data.frame: 20 × 2</caption>\n",
       "<thead>\n",
       "\t<tr><th scope=col>Age</th><th scope=col>Disease</th></tr>\n",
       "\t<tr><th scope=col>&lt;int&gt;</th><th scope=col>&lt;int&gt;</th></tr>\n",
       "</thead>\n",
       "<tbody>\n",
       "\t<tr><td>25</td><td>0</td></tr>\n",
       "\t<tr><td>29</td><td>0</td></tr>\n",
       "\t<tr><td>30</td><td>0</td></tr>\n",
       "\t<tr><td>31</td><td>0</td></tr>\n",
       "\t<tr><td>32</td><td>0</td></tr>\n",
       "\t<tr><td>41</td><td>0</td></tr>\n",
       "\t<tr><td>41</td><td>0</td></tr>\n",
       "\t<tr><td>42</td><td>0</td></tr>\n",
       "\t<tr><td>44</td><td>1</td></tr>\n",
       "\t<tr><td>49</td><td>1</td></tr>\n",
       "\t<tr><td>50</td><td>0</td></tr>\n",
       "\t<tr><td>59</td><td>1</td></tr>\n",
       "\t<tr><td>60</td><td>0</td></tr>\n",
       "\t<tr><td>62</td><td>0</td></tr>\n",
       "\t<tr><td>68</td><td>1</td></tr>\n",
       "\t<tr><td>72</td><td>0</td></tr>\n",
       "\t<tr><td>79</td><td>1</td></tr>\n",
       "\t<tr><td>80</td><td>0</td></tr>\n",
       "\t<tr><td>81</td><td>1</td></tr>\n",
       "\t<tr><td>84</td><td>1</td></tr>\n",
       "</tbody>\n",
       "</table>\n"
      ],
      "text/latex": [
       "A data.frame: 20 × 2\n",
       "\\begin{tabular}{ll}\n",
       " Age & Disease\\\\\n",
       " <int> & <int>\\\\\n",
       "\\hline\n",
       "\t 25 & 0\\\\\n",
       "\t 29 & 0\\\\\n",
       "\t 30 & 0\\\\\n",
       "\t 31 & 0\\\\\n",
       "\t 32 & 0\\\\\n",
       "\t 41 & 0\\\\\n",
       "\t 41 & 0\\\\\n",
       "\t 42 & 0\\\\\n",
       "\t 44 & 1\\\\\n",
       "\t 49 & 1\\\\\n",
       "\t 50 & 0\\\\\n",
       "\t 59 & 1\\\\\n",
       "\t 60 & 0\\\\\n",
       "\t 62 & 0\\\\\n",
       "\t 68 & 1\\\\\n",
       "\t 72 & 0\\\\\n",
       "\t 79 & 1\\\\\n",
       "\t 80 & 0\\\\\n",
       "\t 81 & 1\\\\\n",
       "\t 84 & 1\\\\\n",
       "\\end{tabular}\n"
      ],
      "text/markdown": [
       "\n",
       "A data.frame: 20 × 2\n",
       "\n",
       "| Age &lt;int&gt; | Disease &lt;int&gt; |\n",
       "|---|---|\n",
       "| 25 | 0 |\n",
       "| 29 | 0 |\n",
       "| 30 | 0 |\n",
       "| 31 | 0 |\n",
       "| 32 | 0 |\n",
       "| 41 | 0 |\n",
       "| 41 | 0 |\n",
       "| 42 | 0 |\n",
       "| 44 | 1 |\n",
       "| 49 | 1 |\n",
       "| 50 | 0 |\n",
       "| 59 | 1 |\n",
       "| 60 | 0 |\n",
       "| 62 | 0 |\n",
       "| 68 | 1 |\n",
       "| 72 | 0 |\n",
       "| 79 | 1 |\n",
       "| 80 | 0 |\n",
       "| 81 | 1 |\n",
       "| 84 | 1 |\n",
       "\n"
      ],
      "text/plain": [
       "   Age Disease\n",
       "1  25  0      \n",
       "2  29  0      \n",
       "3  30  0      \n",
       "4  31  0      \n",
       "5  32  0      \n",
       "6  41  0      \n",
       "7  41  0      \n",
       "8  42  0      \n",
       "9  44  1      \n",
       "10 49  1      \n",
       "11 50  0      \n",
       "12 59  1      \n",
       "13 60  0      \n",
       "14 62  0      \n",
       "15 68  1      \n",
       "16 72  0      \n",
       "17 79  1      \n",
       "18 80  0      \n",
       "19 81  1      \n",
       "20 84  1      "
      ]
     },
     "metadata": {},
     "output_type": "display_data"
    }
   ],
   "source": [
    "# Solution\n",
    "ff=read.csv(file=\"data/disease.txt\", head=TRUE, sep=\",\")\n",
    "ff"
   ]
  },
  {
   "cell_type": "markdown",
   "id": "b6ff372f-398d-4f2b-acb5-f8f9fc948b53",
   "metadata": {},
   "source": [
    "**(b) Use a decision tree (analogously to the previous exercise) to predict\n",
    "the class of the target variable for each of the 20 patients. Don’t\n",
    "divide the data into training and validation data.**"
   ]
  },
  {
   "cell_type": "code",
   "execution_count": 9,
   "id": "23314dec-c4e3-4d74-b0a9-eaa6bc086119",
   "metadata": {},
   "outputs": [],
   "source": [
    "# Solution:\n",
    "diseasetree = rpart(Disease ~ .,data=ff, method=\"class\")\n",
    "pred=predict(diseasetree, ff, type=\"class\")"
   ]
  },
  {
   "cell_type": "markdown",
   "id": "e106b5e8-de38-4238-87bd-97e838a6d4ed",
   "metadata": {},
   "source": [
    "**(c) Take a look at the predicted values.**"
   ]
  },
  {
   "cell_type": "code",
   "execution_count": 10,
   "id": "93284614-b75d-4c6c-b254-577f945c5314",
   "metadata": {},
   "outputs": [
    {
     "data": {
      "text/html": [
       "<style>\n",
       ".dl-inline {width: auto; margin:0; padding: 0}\n",
       ".dl-inline>dt, .dl-inline>dd {float: none; width: auto; display: inline-block}\n",
       ".dl-inline>dt::after {content: \":\\0020\"; padding-right: .5ex}\n",
       ".dl-inline>dt:not(:first-of-type) {padding-left: .5ex}\n",
       "</style><dl class=dl-inline><dt>1</dt><dd>0</dd><dt>2</dt><dd>0</dd><dt>3</dt><dd>0</dd><dt>4</dt><dd>0</dd><dt>5</dt><dd>0</dd><dt>6</dt><dd>0</dd><dt>7</dt><dd>0</dd><dt>8</dt><dd>0</dd><dt>9</dt><dd>1</dd><dt>10</dt><dd>1</dd><dt>11</dt><dd>1</dd><dt>12</dt><dd>1</dd><dt>13</dt><dd>1</dd><dt>14</dt><dd>1</dd><dt>15</dt><dd>1</dd><dt>16</dt><dd>1</dd><dt>17</dt><dd>1</dd><dt>18</dt><dd>1</dd><dt>19</dt><dd>1</dd><dt>20</dt><dd>1</dd></dl>\n",
       "\n",
       "<details>\n",
       "\t<summary style=display:list-item;cursor:pointer>\n",
       "\t\t<strong>Levels</strong>:\n",
       "\t</summary>\n",
       "\t<style>\n",
       "\t.list-inline {list-style: none; margin:0; padding: 0}\n",
       "\t.list-inline>li {display: inline-block}\n",
       "\t.list-inline>li:not(:last-child)::after {content: \"\\00b7\"; padding: 0 .5ex}\n",
       "\t</style>\n",
       "\t<ol class=list-inline><li>'0'</li><li>'1'</li></ol>\n",
       "</details>"
      ],
      "text/latex": [
       "\\begin{description*}\n",
       "\\item[1] 0\n",
       "\\item[2] 0\n",
       "\\item[3] 0\n",
       "\\item[4] 0\n",
       "\\item[5] 0\n",
       "\\item[6] 0\n",
       "\\item[7] 0\n",
       "\\item[8] 0\n",
       "\\item[9] 1\n",
       "\\item[10] 1\n",
       "\\item[11] 1\n",
       "\\item[12] 1\n",
       "\\item[13] 1\n",
       "\\item[14] 1\n",
       "\\item[15] 1\n",
       "\\item[16] 1\n",
       "\\item[17] 1\n",
       "\\item[18] 1\n",
       "\\item[19] 1\n",
       "\\item[20] 1\n",
       "\\end{description*}\n",
       "\n",
       "\\emph{Levels}: \\begin{enumerate*}\n",
       "\\item '0'\n",
       "\\item '1'\n",
       "\\end{enumerate*}\n"
      ],
      "text/markdown": [
       "1\n",
       ":   02\n",
       ":   03\n",
       ":   04\n",
       ":   05\n",
       ":   06\n",
       ":   07\n",
       ":   08\n",
       ":   09\n",
       ":   110\n",
       ":   111\n",
       ":   112\n",
       ":   113\n",
       ":   114\n",
       ":   115\n",
       ":   116\n",
       ":   117\n",
       ":   118\n",
       ":   119\n",
       ":   120\n",
       ":   1\n",
       "\n",
       "\n",
       "**Levels**: 1. '0'\n",
       "2. '1'\n",
       "\n",
       "\n"
      ],
      "text/plain": [
       " 1  2  3  4  5  6  7  8  9 10 11 12 13 14 15 16 17 18 19 20 \n",
       " 0  0  0  0  0  0  0  0  1  1  1  1  1  1  1  1  1  1  1  1 \n",
       "Levels: 0 1"
      ]
     },
     "metadata": {},
     "output_type": "display_data"
    }
   ],
   "source": [
    "# Solution\n",
    "pred"
   ]
  },
  {
   "cell_type": "markdown",
   "id": "b455777c-61bd-4e3b-8d23-be6d1e952d58",
   "metadata": {},
   "source": [
    "**(d) Construct the confusion matrix. Interpretation?**"
   ]
  },
  {
   "cell_type": "code",
   "execution_count": 11,
   "id": "cafa5e48-b84e-43e4-bcd4-9c3ed24c4739",
   "metadata": {},
   "outputs": [
    {
     "data": {
      "text/plain": [
       "    \n",
       "pred 0 1\n",
       "   0 8 0\n",
       "   1 5 7"
      ]
     },
     "metadata": {},
     "output_type": "display_data"
    }
   ],
   "source": [
    "# Solution:\n",
    "table(pred, ff[,\"Disease\"])"
   ]
  },
  {
   "cell_type": "markdown",
   "id": "95b4118a-d940-4369-ad5d-471266e6267d",
   "metadata": {},
   "source": [
    "**(e) Construct a decision tree again, but this time predict the probability\n",
    "of the target levels instead of the class. Take a look at the predicted\n",
    "values.**"
   ]
  },
  {
   "cell_type": "code",
   "execution_count": 12,
   "id": "c310cc4c-6f62-4e8e-ae58-82f2b093c2df",
   "metadata": {},
   "outputs": [
    {
     "data": {
      "text/html": [
       "<table class=\"dataframe\">\n",
       "<caption>A matrix: 20 × 2 of type dbl</caption>\n",
       "<thead>\n",
       "\t<tr><th></th><th scope=col>0</th><th scope=col>1</th></tr>\n",
       "</thead>\n",
       "<tbody>\n",
       "\t<tr><th scope=row>1</th><td>1.0000000</td><td>0.0000000</td></tr>\n",
       "\t<tr><th scope=row>2</th><td>1.0000000</td><td>0.0000000</td></tr>\n",
       "\t<tr><th scope=row>3</th><td>1.0000000</td><td>0.0000000</td></tr>\n",
       "\t<tr><th scope=row>4</th><td>1.0000000</td><td>0.0000000</td></tr>\n",
       "\t<tr><th scope=row>5</th><td>1.0000000</td><td>0.0000000</td></tr>\n",
       "\t<tr><th scope=row>6</th><td>1.0000000</td><td>0.0000000</td></tr>\n",
       "\t<tr><th scope=row>7</th><td>1.0000000</td><td>0.0000000</td></tr>\n",
       "\t<tr><th scope=row>8</th><td>1.0000000</td><td>0.0000000</td></tr>\n",
       "\t<tr><th scope=row>9</th><td>0.4166667</td><td>0.5833333</td></tr>\n",
       "\t<tr><th scope=row>10</th><td>0.4166667</td><td>0.5833333</td></tr>\n",
       "\t<tr><th scope=row>11</th><td>0.4166667</td><td>0.5833333</td></tr>\n",
       "\t<tr><th scope=row>12</th><td>0.4166667</td><td>0.5833333</td></tr>\n",
       "\t<tr><th scope=row>13</th><td>0.4166667</td><td>0.5833333</td></tr>\n",
       "\t<tr><th scope=row>14</th><td>0.4166667</td><td>0.5833333</td></tr>\n",
       "\t<tr><th scope=row>15</th><td>0.4166667</td><td>0.5833333</td></tr>\n",
       "\t<tr><th scope=row>16</th><td>0.4166667</td><td>0.5833333</td></tr>\n",
       "\t<tr><th scope=row>17</th><td>0.4166667</td><td>0.5833333</td></tr>\n",
       "\t<tr><th scope=row>18</th><td>0.4166667</td><td>0.5833333</td></tr>\n",
       "\t<tr><th scope=row>19</th><td>0.4166667</td><td>0.5833333</td></tr>\n",
       "\t<tr><th scope=row>20</th><td>0.4166667</td><td>0.5833333</td></tr>\n",
       "</tbody>\n",
       "</table>\n"
      ],
      "text/latex": [
       "A matrix: 20 × 2 of type dbl\n",
       "\\begin{tabular}{r|ll}\n",
       "  & 0 & 1\\\\\n",
       "\\hline\n",
       "\t1 & 1.0000000 & 0.0000000\\\\\n",
       "\t2 & 1.0000000 & 0.0000000\\\\\n",
       "\t3 & 1.0000000 & 0.0000000\\\\\n",
       "\t4 & 1.0000000 & 0.0000000\\\\\n",
       "\t5 & 1.0000000 & 0.0000000\\\\\n",
       "\t6 & 1.0000000 & 0.0000000\\\\\n",
       "\t7 & 1.0000000 & 0.0000000\\\\\n",
       "\t8 & 1.0000000 & 0.0000000\\\\\n",
       "\t9 & 0.4166667 & 0.5833333\\\\\n",
       "\t10 & 0.4166667 & 0.5833333\\\\\n",
       "\t11 & 0.4166667 & 0.5833333\\\\\n",
       "\t12 & 0.4166667 & 0.5833333\\\\\n",
       "\t13 & 0.4166667 & 0.5833333\\\\\n",
       "\t14 & 0.4166667 & 0.5833333\\\\\n",
       "\t15 & 0.4166667 & 0.5833333\\\\\n",
       "\t16 & 0.4166667 & 0.5833333\\\\\n",
       "\t17 & 0.4166667 & 0.5833333\\\\\n",
       "\t18 & 0.4166667 & 0.5833333\\\\\n",
       "\t19 & 0.4166667 & 0.5833333\\\\\n",
       "\t20 & 0.4166667 & 0.5833333\\\\\n",
       "\\end{tabular}\n"
      ],
      "text/markdown": [
       "\n",
       "A matrix: 20 × 2 of type dbl\n",
       "\n",
       "| <!--/--> | 0 | 1 |\n",
       "|---|---|---|\n",
       "| 1 | 1.0000000 | 0.0000000 |\n",
       "| 2 | 1.0000000 | 0.0000000 |\n",
       "| 3 | 1.0000000 | 0.0000000 |\n",
       "| 4 | 1.0000000 | 0.0000000 |\n",
       "| 5 | 1.0000000 | 0.0000000 |\n",
       "| 6 | 1.0000000 | 0.0000000 |\n",
       "| 7 | 1.0000000 | 0.0000000 |\n",
       "| 8 | 1.0000000 | 0.0000000 |\n",
       "| 9 | 0.4166667 | 0.5833333 |\n",
       "| 10 | 0.4166667 | 0.5833333 |\n",
       "| 11 | 0.4166667 | 0.5833333 |\n",
       "| 12 | 0.4166667 | 0.5833333 |\n",
       "| 13 | 0.4166667 | 0.5833333 |\n",
       "| 14 | 0.4166667 | 0.5833333 |\n",
       "| 15 | 0.4166667 | 0.5833333 |\n",
       "| 16 | 0.4166667 | 0.5833333 |\n",
       "| 17 | 0.4166667 | 0.5833333 |\n",
       "| 18 | 0.4166667 | 0.5833333 |\n",
       "| 19 | 0.4166667 | 0.5833333 |\n",
       "| 20 | 0.4166667 | 0.5833333 |\n",
       "\n"
      ],
      "text/plain": [
       "   0         1        \n",
       "1  1.0000000 0.0000000\n",
       "2  1.0000000 0.0000000\n",
       "3  1.0000000 0.0000000\n",
       "4  1.0000000 0.0000000\n",
       "5  1.0000000 0.0000000\n",
       "6  1.0000000 0.0000000\n",
       "7  1.0000000 0.0000000\n",
       "8  1.0000000 0.0000000\n",
       "9  0.4166667 0.5833333\n",
       "10 0.4166667 0.5833333\n",
       "11 0.4166667 0.5833333\n",
       "12 0.4166667 0.5833333\n",
       "13 0.4166667 0.5833333\n",
       "14 0.4166667 0.5833333\n",
       "15 0.4166667 0.5833333\n",
       "16 0.4166667 0.5833333\n",
       "17 0.4166667 0.5833333\n",
       "18 0.4166667 0.5833333\n",
       "19 0.4166667 0.5833333\n",
       "20 0.4166667 0.5833333"
      ]
     },
     "metadata": {},
     "output_type": "display_data"
    }
   ],
   "source": [
    "# Solution:\n",
    "iseasetree = rpart(Disease ~ .,data=ff, method=\"class\")\n",
    "p2 = predict(diseasetree, ff, type=\"prob\")\n",
    "p2"
   ]
  },
  {
   "cell_type": "markdown",
   "id": "22a20ff2-3c0a-4a3c-aaef-87098f0728d0",
   "metadata": {},
   "source": [
    "**(f) Construct a ROC curve.**"
   ]
  },
  {
   "cell_type": "code",
   "execution_count": 13,
   "id": "17cf939c-55a4-43de-8001-a1b027dd5f53",
   "metadata": {},
   "outputs": [
    {
     "data": {
      "image/png": "[encoded data removed]",
      "text/plain": [
       "plot without title"
      ]
     },
     "metadata": {
      "image/png": {
       "height": 420,
       "width": 420
      }
     },
     "output_type": "display_data"
    }
   ],
   "source": [
    "# Solution:\n",
    "library(ROCR)\n",
    "pr3=p2[,2]\n",
    "pr = prediction(pr3, ff$Disease)\n",
    "perf = performance(pr,\"tpr\",\"fpr\")\n",
    "plot(perf)"
   ]
  },
  {
   "cell_type": "code",
   "execution_count": 14,
   "id": "a75aa1f6-378f-4d8f-8b42-0f785f92b4cf",
   "metadata": {},
   "outputs": [
    {
     "data": {
      "image/png": "[encoded data removed]",
      "text/plain": [
       "Plot with title “ROCR fingerpainting toolkit”"
      ]
     },
     "metadata": {
      "image/png": {
       "height": 420,
       "width": 420
      }
     },
     "output_type": "display_data"
    }
   ],
   "source": [
    "# Colorful output\n",
    "par(bg=\"lightblue\", mai=c(1.2,1.5,1,1))\n",
    "plot(perf, main=\"ROCR fingerpainting toolkit\", colorize=TRUE,\n",
    "xlab=\"Colorful axis\",ylab=\"\", box.lty=7, box.lwd=5,\n",
    "box.col=\"gold\", lwd=17, colorkey.relwidth=0.5,\n",
    "xaxis.cex.axis=2,xaxis.col=\"blue\",\n",
    "xaxis.col.axis=\"blue\", yaxis.col=\"green\", yaxis.cex.axis=2,\n",
    "yaxis.at=c(0,0.5,0.8,0.85,0.9,1),\n",
    "yaxis.las=1, xaxis.lwd=2, yaxis.lwd=3,yaxis.col.axis=\"orange\",\n",
    "cex.lab=2, cex.main=2)"
   ]
  },
  {
   "cell_type": "markdown",
   "id": "887d796b-539c-4413-ba58-0a9f9913637d",
   "metadata": {},
   "source": [
    "**(g) Calculate the area under the ROC curve and interpret the result.**"
   ]
  },
  {
   "cell_type": "code",
   "execution_count": 15,
   "id": "182c2993-e60a-4355-89b8-1e64cb69d0cf",
   "metadata": {},
   "outputs": [
    {
     "data": {
      "text/html": [
       "0.807692307692308"
      ],
      "text/latex": [
       "0.807692307692308"
      ],
      "text/markdown": [
       "0.807692307692308"
      ],
      "text/plain": [
       "[1] 0.8076923"
      ]
     },
     "metadata": {},
     "output_type": "display_data"
    }
   ],
   "source": [
    "# Solution:\n",
    "perff=performance(pr,\"auc\")\n",
    "AUC=as.numeric(perff@y.values)\n",
    "AUC"
   ]
  },
  {
   "cell_type": "code",
   "execution_count": null,
   "id": "d72cdf5e-9660-4db7-b7e1-29c01e077c6e",
   "metadata": {},
   "outputs": [],
   "source": []
  }
 ],
 "metadata": {
  "kernelspec": {
   "display_name": "R",
   "language": "R",
   "name": "ir"
  },
  "language_info": {
   "codemirror_mode": "r",
   "file_extension": ".r",
   "mimetype": "text/x-r-source",
   "name": "R",
   "pygments_lexer": "r",
   "version": "4.4.1"
  }
 },
 "nbformat": 4,
 "nbformat_minor": 5
}
